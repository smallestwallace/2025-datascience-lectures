{
 "cells": [
  {
   "cell_type": "markdown",
   "metadata": {
    "nbpresent": {
     "id": "50a40f10-f4b6-4dd3-b7aa-c63ed3ca3244"
    },
    "slideshow": {
     "slide_type": "slide"
    }
   },
   "source": [
    "# Introduction to Data Science – Lecture 3: Basic Python II"
   ]
  },
  {
   "cell_type": "markdown",
   "metadata": {},
   "source": [
    "*COMP 5360 / MATH 4100, University of Utah, http://datasciencecourse.net/*\n"
   ]
  },
  {
   "cell_type": "markdown",
   "metadata": {},
   "source": [
    "In this lecture we'll continue to see what Python can do and learn more about data types, operators, conditions, basic data structures, and loops. "
   ]
  },
  {
   "cell_type": "markdown",
   "metadata": {},
   "source": [
    "## 1. More on Data Types and Operators"
   ]
  },
  {
   "cell_type": "markdown",
   "metadata": {},
   "source": [
    "We've already covered the basic data types and operators. Now we'll recap and go into some more details. \n",
    "\n",
    "Also, make sure to check out the [complete documentation of standard types and operations](https://docs.python.org/3/library/stdtypes.html)."
   ]
  },
  {
   "cell_type": "markdown",
   "metadata": {
    "nbpresent": {
     "id": "ebf3f5fa-8048-40a8-94e7-736400e9cc20"
    }
   },
   "source": [
    "### Boolean"
   ]
  },
  {
   "cell_type": "markdown",
   "metadata": {},
   "source": [
    "Boolean values represent truth values `True` and `False`. Booleans can be used as any other variable:"
   ]
  },
  {
   "cell_type": "code",
   "execution_count": 1,
   "metadata": {
    "nbpresent": {
     "id": "40fdf1d0-a023-49e9-9bc9-b3f72e763206"
    },
    "scrolled": true
   },
   "outputs": [
    {
     "name": "stdout",
     "output_type": "stream",
     "text": [
      "True\n",
      "False\n"
     ]
    }
   ],
   "source": [
    "my_true_var = True\n",
    "print (my_true_var)\n",
    "\n",
    "my_false_var = False\n",
    "print (my_false_var)"
   ]
  },
  {
   "cell_type": "markdown",
   "metadata": {
    "nbpresent": {
     "id": "124e29d2-fb62-4dc7-9e02-d99e1e8d8c42"
    }
   },
   "source": [
    "`True` and `False` are reserved keywords in their capitalized form. \n",
    "\n",
    "There are three operations defined on booleans: `and`, `or`, and `not`. \n",
    "\n",
    "| Operation | Result | \n",
    "|------|------|\n",
    "| `x or y`\t| if x is false, then y, else x  |\n",
    "| `x and y`\t| if x is false, then x, else y  |\n",
    "| `not x`\t    | if x is false, then True, else False  |\n"
   ]
  },
  {
   "cell_type": "code",
   "execution_count": 2,
   "metadata": {
    "nbpresent": {
     "id": "a0ca3b1d-9f50-45d0-8acd-35e23ec0437f"
    }
   },
   "outputs": [
    {
     "data": {
      "text/plain": [
       "True"
      ]
     },
     "execution_count": 2,
     "metadata": {},
     "output_type": "execute_result"
    }
   ],
   "source": [
    "True or False"
   ]
  },
  {
   "cell_type": "code",
   "execution_count": 3,
   "metadata": {
    "nbpresent": {
     "id": "689ab980-9dec-40f0-861b-8c5b6fe18cb9"
    }
   },
   "outputs": [
    {
     "data": {
      "text/plain": [
       "False"
      ]
     },
     "execution_count": 3,
     "metadata": {},
     "output_type": "execute_result"
    }
   ],
   "source": [
    "True and False"
   ]
  },
  {
   "cell_type": "code",
   "execution_count": 4,
   "metadata": {
    "nbpresent": {
     "id": "dcf1f3a9-f3eb-4e0c-8004-13352233f005"
    }
   },
   "outputs": [
    {
     "data": {
      "text/plain": [
       "False"
      ]
     },
     "execution_count": 4,
     "metadata": {},
     "output_type": "execute_result"
    }
   ],
   "source": [
    "not True"
   ]
  },
  {
   "cell_type": "code",
   "execution_count": 5,
   "metadata": {
    "nbpresent": {
     "id": "c9a69e9a-fb15-4634-9ab8-ee6f66e28099"
    }
   },
   "outputs": [
    {
     "data": {
      "text/plain": [
       "True"
      ]
     },
     "execution_count": 5,
     "metadata": {},
     "output_type": "execute_result"
    }
   ],
   "source": [
    "not False"
   ]
  },
  {
   "cell_type": "markdown",
   "metadata": {
    "nbpresent": {
     "id": "a7db497d-427e-40e0-80e0-8f13c131bf79"
    }
   },
   "source": [
    "#### Comparisons"
   ]
  },
  {
   "cell_type": "markdown",
   "metadata": {},
   "source": [
    "Comparisons are very important in programming: they let us decide on conditional flows, which we will discuss later. To compare two entities, Python provides eight comparison operators: \n",
    "\n",
    "\n",
    "| Operation\t| Meaning\n",
    "| - | - |\n",
    "| <\t| strictly less than\n",
    "|<=\t| less than or equal\n",
    "|> |\tstrictly greater than\n",
    "|>= |\tgreater than or equal\n",
    "|==\t |equal\n",
    "|!= |\tnot equal\n",
    "|is\t| object identity\n",
    "|is  not |\tnegated object identity\n",
    "\n",
    "These operators take two operands and return a boolean. We'll glance over the last two for now, but have some examples of the others below. Can you guess what will happen?\n",
    "\n",
    "### Try it!\n",
    "\n",
    "Before running the cells below, guess what you think the answers will be."
   ]
  },
  {
   "cell_type": "code",
   "execution_count": 6,
   "metadata": {
    "nbpresent": {
     "id": "8e62dd34-888f-432a-987e-573aae66cf6a"
    }
   },
   "outputs": [
    {
     "data": {
      "text/plain": [
       "True"
      ]
     },
     "execution_count": 6,
     "metadata": {},
     "output_type": "execute_result"
    }
   ],
   "source": [
    "1 < 2 "
   ]
  },
  {
   "cell_type": "code",
   "execution_count": 7,
   "metadata": {
    "nbpresent": {
     "id": "50d05a38-e8e0-4ee0-9905-b461fead8b38"
    }
   },
   "outputs": [
    {
     "data": {
      "text/plain": [
       "True"
      ]
     },
     "execution_count": 7,
     "metadata": {},
     "output_type": "execute_result"
    }
   ],
   "source": [
    "1 <= 1"
   ]
  },
  {
   "cell_type": "code",
   "execution_count": 8,
   "metadata": {
    "nbpresent": {
     "id": "2900a5bb-46f3-4a98-8315-4fae902c2ecf"
    }
   },
   "outputs": [
    {
     "data": {
      "text/plain": [
       "True"
      ]
     },
     "execution_count": 8,
     "metadata": {},
     "output_type": "execute_result"
    }
   ],
   "source": [
    "14 == 14"
   ]
  },
  {
   "cell_type": "code",
   "execution_count": 9,
   "metadata": {
    "nbpresent": {
     "id": "f27ff159-2993-4c0d-a548-5f682dc33acb"
    }
   },
   "outputs": [
    {
     "data": {
      "text/plain": [
       "False"
      ]
     },
     "execution_count": 9,
     "metadata": {},
     "output_type": "execute_result"
    }
   ],
   "source": [
    "14 != 14 "
   ]
  },
  {
   "cell_type": "code",
   "execution_count": 10,
   "metadata": {
    "nbpresent": {
     "id": "16ed88cc-2c1b-4d3c-b15c-61130d31207e"
    }
   },
   "outputs": [
    {
     "data": {
      "text/plain": [
       "False"
      ]
     },
     "execution_count": 10,
     "metadata": {},
     "output_type": "execute_result"
    }
   ],
   "source": [
    "\"my text\" == \"my text \""
   ]
  },
  {
   "cell_type": "code",
   "execution_count": 11,
   "metadata": {
    "nbpresent": {
     "id": "a679008f-c2cb-47d5-b013-682afb901a71"
    }
   },
   "outputs": [
    {
     "data": {
      "text/plain": [
       "False"
      ]
     },
     "execution_count": 11,
     "metadata": {},
     "output_type": "execute_result"
    }
   ],
   "source": [
    "\"my text\" == \"my other text\""
   ]
  },
  {
   "cell_type": "code",
   "execution_count": 12,
   "metadata": {
    "nbpresent": {
     "id": "2714c263-fa7f-4d6c-b0b5-20369bd76dfe"
    }
   },
   "outputs": [
    {
     "data": {
      "text/plain": [
       "False"
      ]
     },
     "execution_count": 12,
     "metadata": {},
     "output_type": "execute_result"
    }
   ],
   "source": [
    "\"a\" > \"b\""
   ]
  },
  {
   "cell_type": "code",
   "execution_count": 13,
   "metadata": {
    "nbpresent": {
     "id": "c6ea5872-efcd-4aa0-ae5b-551c4db367af"
    }
   },
   "outputs": [
    {
     "data": {
      "text/plain": [
       "True"
      ]
     },
     "execution_count": 13,
     "metadata": {},
     "output_type": "execute_result"
    }
   ],
   "source": [
    "\"a\" < \"b\""
   ]
  },
  {
   "cell_type": "code",
   "execution_count": 14,
   "metadata": {},
   "outputs": [
    {
     "data": {
      "text/plain": [
       "True"
      ]
     },
     "execution_count": 14,
     "metadata": {},
     "output_type": "execute_result"
    }
   ],
   "source": [
    "\"aa\" < \"aba\""
   ]
  },
  {
   "cell_type": "code",
   "execution_count": 15,
   "metadata": {},
   "outputs": [
    {
     "data": {
      "text/plain": [
       "True"
      ]
     },
     "execution_count": 15,
     "metadata": {},
     "output_type": "execute_result"
    }
   ],
   "source": [
    "\"aa\" < \"aab\""
   ]
  },
  {
   "cell_type": "markdown",
   "metadata": {
    "nbpresent": {
     "id": "e7dfbe89-1fa1-4c25-b4c1-d30cf1defbc2"
    }
   },
   "source": [
    "We see that the operations work on numbers just as we would expect. \n",
    "\n",
    "Strings are also compared as we'd expect. The greater and less than operators use lexicographic ordering. "
   ]
  },
  {
   "cell_type": "markdown",
   "metadata": {
    "nbpresent": {
     "id": "badb41c7-7830-4edf-8d82-c4c7f3caecfc"
    }
   },
   "source": [
    "### Numerical Data Types"
   ]
  },
  {
   "cell_type": "markdown",
   "metadata": {},
   "source": [
    "Python supports three built in numerical data types, `int`, `float`, and `complex`. Since Python is dynamically typed, we don't have to define the data types explicitly!\n",
    "\n",
    "The **int** data type is used to to represent integers $\\mathbb{Z}$. Python is special in the way it handles integers as it allows arbitrarily large integers, while most other programming languages reserve a certain chunk of memory for integers, which can lead to a number \"overflowing\". This, for example, would not work properly in C or Java:"
   ]
  },
  {
   "cell_type": "code",
   "execution_count": 16,
   "metadata": {
    "nbpresent": {
     "id": "bfaf1719-3b17-4980-90e1-2e74355dc190"
    },
    "scrolled": true
   },
   "outputs": [
    {
     "data": {
      "text/plain": [
       "1606938044258990275541962092341162602522202993782792835301376"
      ]
     },
     "execution_count": 16,
     "metadata": {},
     "output_type": "execute_result"
    }
   ],
   "source": [
    "2 ** 200 #exponential, python lets you use arbitrarily large numbers"
   ]
  },
  {
   "cell_type": "markdown",
   "metadata": {
    "nbpresent": {
     "id": "68b56fd3-4fb9-46bc-b21e-40f5ed6c2080"
    }
   },
   "source": [
    "However, we can still experience overflows in Python if we work with pandas, a library we will extensively use.\n",
    "\n",
    "Integers can be **positive, zero, or negative**, as you would expect. "
   ]
  },
  {
   "cell_type": "markdown",
   "metadata": {
    "nbpresent": {
     "id": "6ddda0f0-4094-423e-922b-992cf56ca2b4"
    }
   },
   "source": [
    "The **float** datatype is used to represent real numbers $\\mathbb{R}$. Floats, however, can not be precisely represented by a computer. Take the example of $1/3$. Representing $1/3$ accurately would require the computer to store an infinitely large number of $0.33333333333333333333....$ (if a computer used a decimal number system). \n",
    "\n",
    "Since computers use binary numbers, also seemingly simple numbers such as 0.1 cannot be accurately represented. Check out this example: "
   ]
  },
  {
   "cell_type": "code",
   "execution_count": 17,
   "metadata": {
    "nbpresent": {
     "id": "16141b16-c33c-47f3-a9c0-3f5b6f5e8321"
    }
   },
   "outputs": [
    {
     "data": {
      "text/plain": [
       "False"
      ]
     },
     "execution_count": 17,
     "metadata": {},
     "output_type": "execute_result"
    }
   ],
   "source": [
    "(0.1 + 0.1 + 0.1) == 0.3 #that's crazy"
   ]
  },
  {
   "cell_type": "markdown",
   "metadata": {
    "nbpresent": {
     "id": "3cc8381b-08d6-469f-8eba-6150931c6bed"
    }
   },
   "source": [
    "What computers do is that they store approximations using a limited chunck of memory to store the number. At the same time, Python rounds the output of numbers:\n"
   ]
  },
  {
   "cell_type": "code",
   "execution_count": 18,
   "metadata": {
    "nbpresent": {
     "id": "a4d29f2f-f56c-4825-a79d-0ca92f4d6637"
    }
   },
   "outputs": [
    {
     "data": {
      "text/plain": [
       "0.1"
      ]
     },
     "execution_count": 18,
     "metadata": {},
     "output_type": "execute_result"
    }
   ],
   "source": [
    "1 / 10"
   ]
  },
  {
   "cell_type": "markdown",
   "metadata": {},
   "source": [
    "This number is in fact not 0.1 but is stored in the computer as: \n",
    "\n",
    "`0.1000000000000000055511151231257827021181583404541015625`\n",
    "\n",
    "This representation, however, is rarely useful, hence the number is rounded. \n",
    "\n",
    "The lesson that you should remember is that **you CANNOT compare two float numbers with the `==` operator**. "
   ]
  },
  {
   "cell_type": "code",
   "execution_count": 19,
   "metadata": {},
   "outputs": [
    {
     "data": {
      "text/plain": [
       "False"
      ]
     },
     "execution_count": 19,
     "metadata": {},
     "output_type": "execute_result"
    }
   ],
   "source": [
    "a = 0.1 + 0.1 + 0.1 \n",
    "b = 0.3\n",
    "a == b"
   ]
  },
  {
   "cell_type": "markdown",
   "metadata": {
    "nbpresent": {
     "id": "96a4045b-8ecd-4cd5-96a6-1d242e21b3e9"
    }
   },
   "source": [
    "Instead, you can do something like this: "
   ]
  },
  {
   "cell_type": "code",
   "execution_count": 20,
   "metadata": {
    "nbpresent": {
     "id": "e357077d-fc73-4415-9c35-3aa66192382e"
    }
   },
   "outputs": [
    {
     "data": {
      "text/plain": [
       "True"
      ]
     },
     "execution_count": 20,
     "metadata": {},
     "output_type": "execute_result"
    }
   ],
   "source": [
    "# Compare for equality up to a constant value\n",
    "a < b + 0.00001 and a > b - 0.00001"
   ]
  },
  {
   "cell_type": "markdown",
   "metadata": {
    "nbpresent": {
     "id": "23a50127-604a-4ae4-a9c9-97d8ac9ad160"
    }
   },
   "source": [
    "This, of course, only compares up to the 5th digit behind the comma. \n",
    "\n",
    "A better way to do this is the [isclose](https://docs.python.org/3/library/math.html#math.isclose) function from the math package. "
   ]
  },
  {
   "cell_type": "code",
   "execution_count": 25,
   "metadata": {
    "nbpresent": {
     "id": "c9fef2cd-f68c-4793-aa82-244bfd4a999b"
    }
   },
   "outputs": [
    {
     "data": {
      "text/plain": [
       "True"
      ]
     },
     "execution_count": 25,
     "metadata": {},
     "output_type": "execute_result"
    }
   ],
   "source": [
    "# this is how we import a package\n",
    "import math \n",
    "# here we call the isclose function that comes with the math package. \n",
    "math.isclose(a, b, rel_tol=0.00000000001)"
   ]
  },
  {
   "cell_type": "markdown",
   "metadata": {
    "nbpresent": {
     "id": "437c73a8-fd92-4c00-998f-3ecd14f135fb"
    }
   },
   "source": [
    "Here we've also used our first package, the package `math`! \n",
    "\n",
    "Packages extend the basic functionality of python. We'll work a lot with packages in the future, details will follow."
   ]
  },
  {
   "cell_type": "markdown",
   "metadata": {},
   "source": [
    "**Type Annotations**\n",
    "\n",
    "Python now supports [type annotations](https://docs.python.org/3/library/typing.html), but those are not enforced. They can be used by IDEs or linters to check your code. "
   ]
  },
  {
   "cell_type": "code",
   "execution_count": 26,
   "metadata": {},
   "outputs": [
    {
     "name": "stdout",
     "output_type": "stream",
     "text": [
      "Hello World\n",
      "3\n"
     ]
    }
   ],
   "source": [
    "# a type annotation for string\n",
    "greeting: str = \"Hello World\"\n",
    "print(greeting)\n",
    "# we can still override that\n",
    "greeting = 3\n",
    "print(greeting)"
   ]
  },
  {
   "cell_type": "code",
   "execution_count": 27,
   "metadata": {},
   "outputs": [
    {
     "ename": "TypeError",
     "evalue": "can only concatenate str (not \"int\") to str",
     "output_type": "error",
     "traceback": [
      "\u001b[1;31m---------------------------------------------------------------------------\u001b[0m",
      "\u001b[1;31mTypeError\u001b[0m                                 Traceback (most recent call last)",
      "Cell \u001b[1;32mIn[27], line 5\u001b[0m\n\u001b[0;32m      2\u001b[0m \u001b[38;5;28;01mdef\u001b[39;00m \u001b[38;5;21mgreet\u001b[39m(name: \u001b[38;5;28mstr\u001b[39m) \u001b[38;5;241m-\u001b[39m\u001b[38;5;241m>\u001b[39m \u001b[38;5;28mstr\u001b[39m:\n\u001b[0;32m      3\u001b[0m     \u001b[38;5;28;01mreturn\u001b[39;00m \u001b[38;5;124m\"\u001b[39m\u001b[38;5;124mHello \u001b[39m\u001b[38;5;124m\"\u001b[39m \u001b[38;5;241m+\u001b[39m name\n\u001b[1;32m----> 5\u001b[0m greeting \u001b[38;5;241m=\u001b[39m greet(\u001b[38;5;241m3\u001b[39m)\n\u001b[0;32m      6\u001b[0m \u001b[38;5;28mprint\u001b[39m(greeting)\n",
      "Cell \u001b[1;32mIn[27], line 3\u001b[0m, in \u001b[0;36mgreet\u001b[1;34m(name)\u001b[0m\n\u001b[0;32m      2\u001b[0m \u001b[38;5;28;01mdef\u001b[39;00m \u001b[38;5;21mgreet\u001b[39m(name: \u001b[38;5;28mstr\u001b[39m) \u001b[38;5;241m-\u001b[39m\u001b[38;5;241m>\u001b[39m \u001b[38;5;28mstr\u001b[39m:\n\u001b[1;32m----> 3\u001b[0m     \u001b[38;5;28;01mreturn\u001b[39;00m \u001b[38;5;124m\"\u001b[39m\u001b[38;5;124mHello \u001b[39m\u001b[38;5;124m\"\u001b[39m \u001b[38;5;241m+\u001b[39m name\n",
      "\u001b[1;31mTypeError\u001b[0m: can only concatenate str (not \"int\") to str"
     ]
    }
   ],
   "source": [
    "# we can also hint at the return type of a function\n",
    "def greet(name: str) -> str:\n",
    "    return \"Hello \" + name\n",
    "\n",
    "greeting = greet(3)\n",
    "print(greeting)"
   ]
  },
  {
   "cell_type": "markdown",
   "metadata": {
    "nbpresent": {
     "id": "6b2ed7ae-da6d-4a0d-9efc-16267cca4654"
    }
   },
   "source": [
    "#### Numerical Operators"
   ]
  },
  {
   "cell_type": "markdown",
   "metadata": {},
   "source": [
    "Here is a selection of operators and functions that work on numerical data types. \n",
    "\n",
    "| Operation | Result\n",
    "| - | - |\n",
    "|`x + y`\t|sum of x and y\t \t \n",
    "|`x - y`\t|difference of x and y\t \t \n",
    "|`x * y`\t|product of x and y\t \t \n",
    "|`x / y`\t|quotient of x and y\t \t \n",
    "|`x % y`\t| remainder of x / y\n",
    "|`-x`\t| x negated\t \t \n",
    "|`abs(x)` |\tabsolute value or magnitude of x\t \n",
    "|`int(x)` |\tx converted to integer\t\n",
    "|`float(x)` |\tx converted to floating point\t\n",
    "|`pow(x, y)` |\tx to the power y\t\n",
    "| `x ** y` | x to the power y\n",
    "\n",
    "Most of these should be rather straight-forward.\n",
    "\n",
    "You might not have heard of the \"modulo operator\" `%` which returns the remainder of a division x / y. Here is an example:"
   ]
  },
  {
   "cell_type": "code",
   "execution_count": 30,
   "metadata": {
    "nbpresent": {
     "id": "175038dd-4256-42e4-8e87-fd168e694cf7"
    }
   },
   "outputs": [
    {
     "name": "stdout",
     "output_type": "stream",
     "text": [
      "1.4000000000000004\n",
      "3.0\n"
     ]
    }
   ],
   "source": [
    "print(7.4 % 2)\n",
    "print(7.4 // 2)"
   ]
  },
  {
   "cell_type": "markdown",
   "metadata": {
    "nbpresent": {
     "id": "92c81698-42d0-4427-9dd8-e444df1da18a"
    }
   },
   "source": [
    "Also, remember, that many operations have a shorthand assignment version, i.e., instead of:"
   ]
  },
  {
   "cell_type": "code",
   "execution_count": 31,
   "metadata": {
    "nbpresent": {
     "id": "9fa6132e-6d3e-4bf8-99fb-002a16188e67"
    }
   },
   "outputs": [
    {
     "data": {
      "text/plain": [
       "5"
      ]
     },
     "execution_count": 31,
     "metadata": {},
     "output_type": "execute_result"
    }
   ],
   "source": [
    "x = 2\n",
    "y = 3\n",
    "x = x + y\n",
    "x"
   ]
  },
  {
   "cell_type": "markdown",
   "metadata": {
    "nbpresent": {
     "id": "b355339d-1d2e-4792-9e18-fae5196b5f09"
    }
   },
   "source": [
    "you can also write: "
   ]
  },
  {
   "cell_type": "code",
   "execution_count": 32,
   "metadata": {
    "nbpresent": {
     "id": "68897df7-76f8-4428-83cb-7e915177afdb"
    }
   },
   "outputs": [
    {
     "data": {
      "text/plain": [
       "5"
      ]
     },
     "execution_count": 32,
     "metadata": {},
     "output_type": "execute_result"
    }
   ],
   "source": [
    "x = 2\n",
    "y = 3\n",
    "x += y\n",
    "x"
   ]
  },
  {
   "cell_type": "markdown",
   "metadata": {
    "nbpresent": {
     "id": "97b77ee5-60be-430a-94a1-622a022cde2b"
    }
   },
   "source": [
    "This works also for other operators: "
   ]
  },
  {
   "cell_type": "code",
   "execution_count": 33,
   "metadata": {
    "nbpresent": {
     "id": "6c04cc77-74d3-4fb3-b759-3ab30265b48e"
    }
   },
   "outputs": [
    {
     "data": {
      "text/plain": [
       "-1"
      ]
     },
     "execution_count": 33,
     "metadata": {},
     "output_type": "execute_result"
    }
   ],
   "source": [
    "x = 2\n",
    "y = 3\n",
    "x -= y\n",
    "x"
   ]
  },
  {
   "cell_type": "code",
   "execution_count": 34,
   "metadata": {
    "nbpresent": {
     "id": "76beb25a-7f52-489a-b11d-6607484a7177"
    }
   },
   "outputs": [
    {
     "data": {
      "text/plain": [
       "0.6666666666666666"
      ]
     },
     "execution_count": 34,
     "metadata": {},
     "output_type": "execute_result"
    }
   ],
   "source": [
    "x = 2\n",
    "y = 3\n",
    "x /= y\n",
    "x"
   ]
  },
  {
   "cell_type": "code",
   "execution_count": 35,
   "metadata": {
    "nbpresent": {
     "id": "9621420b-585f-4e2d-9bf1-0a8215ef0b52"
    }
   },
   "outputs": [
    {
     "data": {
      "text/plain": [
       "32768"
      ]
     },
     "execution_count": 35,
     "metadata": {},
     "output_type": "execute_result"
    }
   ],
   "source": [
    "x = 2\n",
    "y = 3\n",
    "z = 5\n",
    "x **= (y * z)\n",
    "x"
   ]
  },
  {
   "cell_type": "markdown",
   "metadata": {
    "nbpresent": {
     "id": "97356abd-ceb7-4734-a936-a8f77be1a34a"
    }
   },
   "source": [
    "## 2. Functions Recap"
   ]
  },
  {
   "cell_type": "markdown",
   "metadata": {},
   "source": [
    "Functions have a name, take parameters, and can (but must not) provide a return value.\n",
    "\n",
    "Indentation is what distinguishes the body of a function from the surrounding code. "
   ]
  },
  {
   "cell_type": "code",
   "execution_count": 36,
   "metadata": {
    "nbpresent": {
     "id": "4f0a1f6a-a848-4e3e-9877-590c4b4c8d1e"
    }
   },
   "outputs": [
    {
     "data": {
      "text/plain": [
       "10"
      ]
     },
     "execution_count": 36,
     "metadata": {},
     "output_type": "execute_result"
    }
   ],
   "source": [
    "def add(x, y):\n",
    "    result = x + y\n",
    "    return result\n",
    "\n",
    "add(1,9)"
   ]
  },
  {
   "cell_type": "markdown",
   "metadata": {
    "nbpresent": {
     "id": "9e373233-12c6-4492-9b12-3a83116a6e3a"
    }
   },
   "source": [
    "Also, remember that variables defined inside of a function are not accesible outside of a function:"
   ]
  },
  {
   "cell_type": "code",
   "execution_count": 37,
   "metadata": {
    "nbpresent": {
     "id": "f2471047-2985-44c0-9233-7d29df07a6e5"
    }
   },
   "outputs": [
    {
     "name": "stdout",
     "output_type": "stream",
     "text": [
      "Within function: only readable in here\n"
     ]
    },
    {
     "ename": "NameError",
     "evalue": "name 'function_scope' is not defined",
     "output_type": "error",
     "traceback": [
      "\u001b[1;31m---------------------------------------------------------------------------\u001b[0m",
      "\u001b[1;31mNameError\u001b[0m                                 Traceback (most recent call last)",
      "Cell \u001b[1;32mIn[37], line 12\u001b[0m\n\u001b[0;32m      7\u001b[0m scope_test()\n\u001b[0;32m      9\u001b[0m \u001b[38;5;66;03m# If we try to use the function_scope variable outse of the function, we will find that it is not defined. \u001b[39;00m\n\u001b[0;32m     10\u001b[0m \u001b[38;5;66;03m# This will throw a NameError, because Python doesn't know about that variable here\u001b[39;00m\n\u001b[1;32m---> 12\u001b[0m \u001b[38;5;28mprint\u001b[39m(\u001b[38;5;124m\"\u001b[39m\u001b[38;5;124mOutside function: \u001b[39m\u001b[38;5;124m\"\u001b[39m \u001b[38;5;241m+\u001b[39m function_scope)\n",
      "\u001b[1;31mNameError\u001b[0m: name 'function_scope' is not defined"
     ]
    }
   ],
   "source": [
    "def scope_test():\n",
    "    function_scope = \"only readable in here\"\n",
    "    # Within the function, we can use the variable we have defined\n",
    "    print(\"Within function: \" + function_scope)\n",
    "\n",
    "# calling the function, which will print     \n",
    "scope_test()\n",
    "\n",
    "# If we try to use the function_scope variable outse of the function, we will find that it is not defined. \n",
    "# This will throw a NameError, because Python doesn't know about that variable here\n",
    "\n",
    "print(\"Outside function: \" + function_scope)"
   ]
  },
  {
   "cell_type": "markdown",
   "metadata": {},
   "source": [
    "Functions can also be given **default values**. \n",
    "\n",
    "Also, parameters can be **explicitly defined**. "
   ]
  },
  {
   "cell_type": "code",
   "execution_count": 39,
   "metadata": {},
   "outputs": [
    {
     "name": "stdout",
     "output_type": "stream",
     "text": [
      "a _ _\n",
      "_ b _\n",
      "AAA _ CC\n",
      "_ _ _\n",
      "A B C\n"
     ]
    }
   ],
   "source": [
    "def print_vars(a=\"_\", b=\"_\", c=\"_\"):\n",
    "    print(a, b, c)\n",
    "\n",
    "# Position determines the variable assignment. Defaults are used for the second and third parameter.\n",
    "print_vars(\"a\")\n",
    "# Explicit assignment of the b parameter. Defaults are used for the rest. \n",
    "print_vars(b=\"b\")\n",
    "# Explicit assignment out of order. Defaults are used for the rest. \n",
    "print_vars(c=\"CC\", a=\"AAA\")\n",
    "print_vars()\n",
    "print_vars(\"A\",\"B\",\"C\")"
   ]
  },
  {
   "cell_type": "markdown",
   "metadata": {},
   "source": [
    "Finally, we can also use **arbitrary length arguments**: "
   ]
  },
  {
   "cell_type": "code",
   "execution_count": 40,
   "metadata": {},
   "outputs": [
    {
     "name": "stdout",
     "output_type": "stream",
     "text": [
      "('Devin', 'Kutay', 'Shaurya', 'Daniel')\n"
     ]
    }
   ],
   "source": [
    "def var_args(*names):\n",
    "    print(names)\n",
    "    \n",
    "var_args(\"Devin\", \"Kutay\", \"Shaurya\", \"Daniel\")"
   ]
  },
  {
   "cell_type": "markdown",
   "metadata": {
    "nbpresent": {
     "id": "e449481f-4c5f-4533-8885-03e547e85235"
    }
   },
   "source": [
    "## 3. Conditions: if-elif-else statements"
   ]
  },
  {
   "cell_type": "markdown",
   "metadata": {},
   "source": [
    "We've learned how to make comparisons between items and use Boolean operations. The result of these operations was usually a Boolean value. \n",
    "\n",
    "We can now make use of these Boolean values to **steer the program flow using conditions**. \n",
    "\n",
    "We can do that using **if-statements**. If conditions evaluate an expression for its boolean value and execute one branch of code if they are true, and, optionally, another branch if they are false:"
   ]
  },
  {
   "cell_type": "code",
   "execution_count": 41,
   "metadata": {
    "nbpresent": {
     "id": "8694e33e-6ae9-4f08-9285-95921c365bd2"
    }
   },
   "outputs": [
    {
     "name": "stdout",
     "output_type": "stream",
     "text": [
      "144.6 is an even number\n",
      "13 is in fact an odd number\n"
     ]
    }
   ],
   "source": [
    "def isOdd(x):\n",
    "    # the statement within the brackets is evaluated for truth\n",
    "    if x % 2 == 1:\n",
    "        # body, executed if true\n",
    "        print(str(x), \"is in fact an odd number\")\n",
    "    else:\n",
    "        # executed if false\n",
    "        print(str(x), \"is an even number\") #float will run to this section every time\n",
    "\n",
    "isOdd(144.6)\n",
    "isOdd(13)"
   ]
  },
  {
   "cell_type": "markdown",
   "metadata": {},
   "source": [
    "Notice the **\"body\" of the if statement is intended**, just as for functions.\n",
    "\n",
    "Also note that you don't need to put paranthesis around the expression, though it's OK to do so.\n",
    "\n",
    "This: \n",
    "```python\n",
    "if x == True:\n",
    "```\n",
    "works just as well as this: \n",
    "```python \n",
    "if (x == True):\n",
    "``` \n",
    "though the first way is generally considered the more elegant way in Python. This also applies to all other control structures (`for`, `while`, etc.) that we will discuss. \n",
    "\n",
    "You should use parantehsis for logic and if it helps readability. \n",
    "\n",
    "Here's an example of a more complex boolean expression:"
   ]
  },
  {
   "cell_type": "code",
   "execution_count": 42,
   "metadata": {},
   "outputs": [],
   "source": [
    "if (True and False) or False:\n",
    "    print(True)"
   ]
  },
  {
   "cell_type": "markdown",
   "metadata": {
    "nbpresent": {
     "id": "86859a77-9e6c-4464-bd01-81d448af0345"
    }
   },
   "source": [
    "In addition to the explicit boolean values that we can use to test for truth, most **programming languages define a range of things to be true or false**. \n",
    "\n",
    "By definition, **false is**:\n",
    " * the Boolean value `False`,\n",
    " * `0` of any numeric type, \n",
    " * empty sequences or lists, \n",
    " * empty strings,\n",
    " * `None` values.\n",
    "\n",
    "Everything else is considered true."
   ]
  },
  {
   "cell_type": "code",
   "execution_count": 43,
   "metadata": {
    "nbpresent": {
     "id": "84429591-fc62-43ed-af94-ee03f2471b6e"
    }
   },
   "outputs": [
    {
     "name": "stdout",
     "output_type": "stream",
     "text": [
      "0 is false\n",
      "An undefined variable is false\n",
      "An empty list is false\n",
      "An empty string is false\n"
     ]
    }
   ],
   "source": [
    "if 0:\n",
    "    print(\"This should never happen\")\n",
    "else:\n",
    "    print(\"0 is false\")\n",
    "\n",
    "undefined_var = None\n",
    "if not undefined_var:\n",
    "    print(\"An undefined variable is false\")\n",
    "    \n",
    "if not []:\n",
    "    print(\"An empty list is false\")\n",
    "    \n",
    "if not \"\":\n",
    "    print(\"An empty string is false\")\n"
   ]
  },
  {
   "cell_type": "markdown",
   "metadata": {
    "nbpresent": {
     "id": "747a7099-64f2-4f71-a0d0-155dd2ef0b28"
    }
   },
   "source": [
    "You can also **chain conditions using the `elif` statement**, which is short for else if:"
   ]
  },
  {
   "cell_type": "code",
   "execution_count": 47,
   "metadata": {
    "nbpresent": {
     "id": "4df31c1d-fa43-4d1b-8d2f-7d5eb7771540"
    }
   },
   "outputs": [
    {
     "name": "stdout",
     "output_type": "stream",
     "text": [
      "2 is a factor of 4\n",
      "3 is a factor of 9\n",
      "2 is a factor of 12\n",
      "Neither 2 nor 3 are factors of 13\n"
     ]
    }
   ],
   "source": [
    "def smallest_factors(x):\n",
    "    # notice the use of the negation and the use of 0 as false\n",
    "    if not x % 2:\n",
    "        print(\"2 is a factor of \" + str(x))  \n",
    "    elif not x % 3:     # only evaluated when if was false, just if will return 2 and 3 as factors of 12 as seen in next code box\n",
    "        print(\"3 is a factor of \" + str(x))\n",
    "    else: # only evaluated when both if and elif were false\n",
    "        print(\"Neither 2 nor 3 are factors of \" + str(x))\n",
    "\n",
    "smallest_factors(4)\n",
    "smallest_factors(9)\n",
    "smallest_factors(12)\n",
    "smallest_factors(13)"
   ]
  },
  {
   "cell_type": "markdown",
   "metadata": {},
   "source": [
    "Notice that the `elif` (or the `else`) branch is not evaluated if the `if` branch matches. A function that prints whether both, 2 and 3 is a factor could be written like this: "
   ]
  },
  {
   "cell_type": "code",
   "execution_count": 48,
   "metadata": {
    "nbpresent": {
     "id": "4df31c1d-fa43-4d1b-8d2f-7d5eb7771540"
    }
   },
   "outputs": [
    {
     "name": "stdout",
     "output_type": "stream",
     "text": [
      "2 is a factor of 4\n",
      "3 is a factor of 9\n",
      "2 is a factor of 12\n",
      "3 is a factor of 12\n",
      "Neither 2 nor 3 are factors of 13\n"
     ]
    }
   ],
   "source": [
    "def factors(x):\n",
    "    # notice the use of the negation and the use of 0 as false\n",
    "    if not x % 2:\n",
    "        print(\"2 is a factor of \" + str(x))  \n",
    "    if not x % 3:     \n",
    "        print(\"3 is a factor of \" + str(x))\n",
    "    if (x % 2) and (x % 3):\n",
    "        print(\"Neither 2 nor 3 are factors of \" + str(x))\n",
    "\n",
    "factors(4)\n",
    "factors(9)\n",
    "factors(12)\n",
    "factors(13)"
   ]
  },
  {
   "cell_type": "markdown",
   "metadata": {
    "nbpresent": {
     "id": "30fae315-d72a-442a-a7b5-b0a37b744dca"
    }
   },
   "source": [
    "## 4. Lists"
   ]
  },
  {
   "cell_type": "markdown",
   "metadata": {},
   "source": [
    "Up to know we've worked only with basic data types such as booleans, numbers and strings. Now we'll take a look at a compound data type: [lists](https://docs.python.org/3/tutorial/introduction.html#lists).\n",
    "\n",
    "**A list is a collection of items.** Another word commonly used for a list in other programming languages is an **array** (though there are differences between lists and arrays in many languages). \n",
    "\n",
    "**Lists are created with square brackets `[]` and can be accessed via an index:**"
   ]
  },
  {
   "cell_type": "code",
   "execution_count": 49,
   "metadata": {
    "nbpresent": {
     "id": "2cccc38c-08c9-47ec-8476-8198b5aef967"
    }
   },
   "outputs": [
    {
     "name": "stdout",
     "output_type": "stream",
     "text": [
      "['0-Paul', '1-John', '2-George', '3-Ringo']\n",
      "0-Paul\n",
      "1-John\n"
     ]
    }
   ],
   "source": [
    "beatles = [\"0-Paul\", \"1-John\", \"2-George\", \"3-Ringo\"]\n",
    "# printing the whole array\n",
    "print(beatles)\n",
    "# printing the first element of that array, at index 0\n",
    "print(beatles[0])\n",
    "# third element, at index 2\n",
    "print(beatles[1])"
   ]
  },
  {
   "cell_type": "markdown",
   "metadata": {},
   "source": [
    "You can also address elements from the back of the list: "
   ]
  },
  {
   "cell_type": "code",
   "execution_count": 50,
   "metadata": {
    "nbpresent": {
     "id": "2cccc38c-08c9-47ec-8476-8198b5aef967"
    }
   },
   "outputs": [
    {
     "name": "stdout",
     "output_type": "stream",
     "text": [
      "3-Ringo\n",
      "2-George\n"
     ]
    }
   ],
   "source": [
    "# access the last element\n",
    "print(beatles[-1])\n",
    "# access the one-but-last element\n",
    "print(beatles[-2])"
   ]
  },
  {
   "cell_type": "markdown",
   "metadata": {
    "nbpresent": {
     "id": "b9d8ffd3-fec8-4b7c-8301-13b27ffad614"
    }
   },
   "source": [
    "If we try to address an index outside of the range of an array, we get an error: "
   ]
  },
  {
   "cell_type": "code",
   "execution_count": 51,
   "metadata": {
    "nbpresent": {
     "id": "13e66cfb-b9c1-49f9-a409-4405415cfeea"
    }
   },
   "outputs": [
    {
     "ename": "IndexError",
     "evalue": "list index out of range",
     "output_type": "error",
     "traceback": [
      "\u001b[1;31m---------------------------------------------------------------------------\u001b[0m",
      "\u001b[1;31mIndexError\u001b[0m                                Traceback (most recent call last)",
      "Cell \u001b[1;32mIn[51], line 1\u001b[0m\n\u001b[1;32m----> 1\u001b[0m beatles[\u001b[38;5;241m4\u001b[39m]\n",
      "\u001b[1;31mIndexError\u001b[0m: list index out of range"
     ]
    }
   ],
   "source": [
    "beatles[4]"
   ]
  },
  {
   "cell_type": "markdown",
   "metadata": {},
   "source": [
    "Sometimes, it makes sense to pre-initialize an array of a certain size, but you don't generally have to pre-specify the size of a list in python."
   ]
  },
  {
   "cell_type": "code",
   "execution_count": 52,
   "metadata": {},
   "outputs": [
    {
     "data": {
      "text/plain": [
       "[0, 0, 0, 0, 0, 0, 0, 0, 0, 0]"
      ]
     },
     "execution_count": 52,
     "metadata": {},
     "output_type": "execute_result"
    }
   ],
   "source": [
    "[0] * 10"
   ]
  },
  {
   "cell_type": "markdown",
   "metadata": {},
   "source": [
    "There is also a handy shortcut for quickly initializing lists. This uses the [`range()`](https://docs.python.org/3/library/functions.html#func-range) function, which we'll explore in more detail later."
   ]
  },
  {
   "cell_type": "markdown",
   "metadata": {
    "nbpresent": {
     "id": "b095b5f4-64f4-4c92-b5ad-3430139e5829"
    }
   },
   "source": [
    "We can also create **slices of an array with the slice operator `:`**\n",
    "\n",
    "```python\n",
    "a[start:end] # items start through end-1\n",
    "a[start:]    # items start through the rest of the array\n",
    "a[:end]      # items from the beginning through end-1\n",
    "a[:]         # a copy of the whole array\n",
    "```"
   ]
  },
  {
   "cell_type": "markdown",
   "metadata": {},
   "source": [
    "There is also the step value, which can be used with any of the above:\n",
    "\n",
    "```python\n",
    "a[start:end:step] # start through not past end, by step\n",
    "```"
   ]
  },
  {
   "cell_type": "markdown",
   "metadata": {
    "nbpresent": {
     "id": "c7b1e99e-3ba0-4aa2-8d39-eea68db2780f"
    }
   },
   "source": [
    "The slice operations return a **new array**. The original array is untouched."
   ]
  },
  {
   "cell_type": "markdown",
   "metadata": {},
   "source": [
    "See [this post](http://stackoverflow.com/questions/509211/explain-pythons-slice-notation) for a good explanation on slicing."
   ]
  },
  {
   "cell_type": "code",
   "execution_count": 53,
   "metadata": {
    "nbpresent": {
     "id": "6f27c412-dc29-4506-afa2-81e52922d8f2"
    }
   },
   "outputs": [
    {
     "data": {
      "text/plain": [
       "['0-Paul', '1-John']"
      ]
     },
     "execution_count": 53,
     "metadata": {},
     "output_type": "execute_result"
    }
   ],
   "source": [
    "# Get the slice from 0 (included) to 2 (excluded)\n",
    "beatles[:2] # this can also be written as [0:2]"
   ]
  },
  {
   "cell_type": "code",
   "execution_count": 54,
   "metadata": {},
   "outputs": [
    {
     "data": {
      "text/plain": [
       "['2-George', '3-Ringo']"
      ]
     },
     "execution_count": 54,
     "metadata": {},
     "output_type": "execute_result"
    }
   ],
   "source": [
    "# Sclice from index 2 (3rd element) to end\n",
    "beatles[2:]"
   ]
  },
  {
   "cell_type": "code",
   "execution_count": 55,
   "metadata": {},
   "outputs": [
    {
     "data": {
      "text/plain": [
       "['0-Paul', '1-John', '2-George', '3-Ringo']"
      ]
     },
     "execution_count": 55,
     "metadata": {},
     "output_type": "execute_result"
    }
   ],
   "source": [
    "# A copy of the array \n",
    "beatles[:]"
   ]
  },
  {
   "cell_type": "markdown",
   "metadata": {
    "nbpresent": {
     "id": "133128f1-6346-44cb-a6bf-8651c4d39601"
    }
   },
   "source": [
    "Slicing outside of a defined range returns an empty list:"
   ]
  },
  {
   "cell_type": "code",
   "execution_count": 56,
   "metadata": {
    "nbpresent": {
     "id": "e47eaccf-7e3a-4c48-a5c8-ead49f46d141"
    }
   },
   "outputs": [
    {
     "data": {
      "text/plain": [
       "[]"
      ]
     },
     "execution_count": 56,
     "metadata": {},
     "output_type": "execute_result"
    }
   ],
   "source": [
    "beatles[4:9]"
   ]
  },
  {
   "cell_type": "markdown",
   "metadata": {
    "nbpresent": {
     "id": "903dfcba-5ca9-43df-81a4-703bbdaec1e6"
    }
   },
   "source": [
    "Strings can be treated similar to arrays with respect to indexing and slicing:"
   ]
  },
  {
   "cell_type": "code",
   "execution_count": 59,
   "metadata": {
    "nbpresent": {
     "id": "3797edd3-b4a8-430e-be10-ebc8712b5ef3"
    }
   },
   "outputs": [
    {
     "data": {
      "text/plain": [
       "'Paul'"
      ]
     },
     "execution_count": 59,
     "metadata": {},
     "output_type": "execute_result"
    }
   ],
   "source": [
    "paul = \"Paul McCartney\"\n",
    "paul[0:4]"
   ]
  },
  {
   "cell_type": "markdown",
   "metadata": {
    "nbpresent": {
     "id": "7de0a434-d83b-4557-aa74-d81ee4b7ecbb"
    }
   },
   "source": [
    "Lists (in contrast to strings) are mutable. \n",
    "\n",
    "That means **we can change the elements that are contained in a list**: "
   ]
  },
  {
   "cell_type": "code",
   "execution_count": 60,
   "metadata": {
    "nbpresent": {
     "id": "7d7aab61-0e11-4084-a70a-537a017c15fa"
    }
   },
   "outputs": [
    {
     "data": {
      "text/plain": [
       "['0-Paul', 'JohnYoko', '2-George', '3-Ringo']"
      ]
     },
     "execution_count": 60,
     "metadata": {},
     "output_type": "execute_result"
    }
   ],
   "source": [
    "beatles[1] = \"JohnYoko\"\n",
    "beatles"
   ]
  },
  {
   "cell_type": "markdown",
   "metadata": {},
   "source": [
    "This does not work with strings, strings are immutable: "
   ]
  },
  {
   "cell_type": "code",
   "execution_count": 61,
   "metadata": {
    "nbpresent": {
     "id": "396b6da4-3fd3-4ef4-b70a-cd22b025e53a"
    }
   },
   "outputs": [
    {
     "ename": "TypeError",
     "evalue": "'str' object does not support item assignment",
     "output_type": "error",
     "traceback": [
      "\u001b[1;31m---------------------------------------------------------------------------\u001b[0m",
      "\u001b[1;31mTypeError\u001b[0m                                 Traceback (most recent call last)",
      "Cell \u001b[1;32mIn[61], line 2\u001b[0m\n\u001b[0;32m      1\u001b[0m \u001b[38;5;66;03m# This will return an error\u001b[39;00m\n\u001b[1;32m----> 2\u001b[0m paul[\u001b[38;5;241m1\u001b[39m] \u001b[38;5;241m=\u001b[39m \u001b[38;5;124m\"\u001b[39m\u001b[38;5;124mo\u001b[39m\u001b[38;5;124m\"\u001b[39m\n",
      "\u001b[1;31mTypeError\u001b[0m: 'str' object does not support item assignment"
     ]
    }
   ],
   "source": [
    "# This will return an error\n",
    "paul[1] = \"o\""
   ]
  },
  {
   "cell_type": "markdown",
   "metadata": {
    "nbpresent": {
     "id": "31e45925-5bf1-42de-87ea-280dbb365665"
    }
   },
   "source": [
    "Arrays can also be **extended with the `append()` function**:"
   ]
  },
  {
   "cell_type": "code",
   "execution_count": 62,
   "metadata": {
    "nbpresent": {
     "id": "e2a6752b-e74d-48b4-b682-4ea811cef8a4"
    }
   },
   "outputs": [
    {
     "data": {
      "text/plain": [
       "['0-Paul', 'JohnYoko', '2-George', '3-Ringo', '4-George Martin']"
      ]
     },
     "execution_count": 62,
     "metadata": {},
     "output_type": "execute_result"
    }
   ],
   "source": [
    "beatles.append(\"4-George Martin\")\n",
    "beatles"
   ]
  },
  {
   "cell_type": "markdown",
   "metadata": {
    "nbpresent": {
     "id": "cb8a4e24-90ef-4b0f-86de-b81bb5309d52"
    }
   },
   "source": [
    "Lists can be **concatenated**: "
   ]
  },
  {
   "cell_type": "code",
   "execution_count": 63,
   "metadata": {
    "nbpresent": {
     "id": "a4109ac9-938f-4db7-b7bb-bb899ad672ed"
    }
   },
   "outputs": [
    {
     "data": {
      "text/plain": [
       "['0-Paul',\n",
       " 'JohnYoko',\n",
       " '2-George',\n",
       " '3-Ringo',\n",
       " '4-George Martin',\n",
       " 'Jimmy',\n",
       " 'Robert',\n",
       " 'John',\n",
       " 'John']"
      ]
     },
     "execution_count": 63,
     "metadata": {},
     "output_type": "execute_result"
    }
   ],
   "source": [
    "zeppelin = [\"Jimmy\", \"Robert\", \"John\", \"John\"]\n",
    "supergroup = beatles + zeppelin\n",
    "supergroup"
   ]
  },
  {
   "cell_type": "markdown",
   "metadata": {
    "nbpresent": {
     "id": "3927d6f8-3df3-4773-b08d-2b77acfffcd8"
    }
   },
   "source": [
    "We can **check the length** of a list using the built-in [`len()`](https://docs.python.org/3.3/library/functions.html#len) function:"
   ]
  },
  {
   "cell_type": "code",
   "execution_count": 64,
   "metadata": {
    "nbpresent": {
     "id": "bc27d3eb-1a47-465d-b1f4-930a833608de"
    }
   },
   "outputs": [
    {
     "data": {
      "text/plain": [
       "4"
      ]
     },
     "execution_count": 64,
     "metadata": {},
     "output_type": "execute_result"
    }
   ],
   "source": [
    "len(zeppelin)"
   ]
  },
  {
   "cell_type": "markdown",
   "metadata": {
    "nbpresent": {
     "id": "128555b4-e524-4d04-a9a8-2ceee3daffaf"
    }
   },
   "source": [
    "Lists can also be **nested**: "
   ]
  },
  {
   "cell_type": "code",
   "execution_count": 67,
   "metadata": {
    "nbpresent": {
     "id": "ab1b9e85-6252-4ee4-aa90-10cb955ab083"
    }
   },
   "outputs": [
    {
     "name": "stdout",
     "output_type": "stream",
     "text": [
      "5\n",
      "2\n"
     ]
    }
   ],
   "source": [
    "bands = [beatles, zeppelin]\n",
    "bands\n",
    "print(len(bands[0]))\n",
    "print(len(bands))"
   ]
  },
  {
   "cell_type": "markdown",
   "metadata": {
    "nbpresent": {
     "id": "7e3dacfb-6d03-4285-b0f8-55851881244c"
    }
   },
   "source": [
    "In fact, lists can be of hybrid data types, which, however, is something that you typically **don't want to and shouldn't do**:"
   ]
  },
  {
   "cell_type": "code",
   "execution_count": 68,
   "metadata": {
    "nbpresent": {
     "id": "a37659c5-0da2-4ef0-ba7d-a044ab813be6"
    }
   },
   "outputs": [
    {
     "data": {
      "text/plain": [
       "[['0-Paul', 'JohnYoko', '2-George', '3-Ringo', '4-George Martin'],\n",
       " ['Jimmy', 'Robert', 'John', 'John'],\n",
       " 1,\n",
       " 0.3,\n",
       " 17,\n",
       " 'This is bad']"
      ]
     },
     "execution_count": 68,
     "metadata": {},
     "output_type": "execute_result"
    }
   ],
   "source": [
    "bad_bands = bands + [1, 0.3, 17, \"This is bad\"]\n",
    "# this list contains lists, integers, floats and strings\n",
    "bad_bands"
   ]
  },
  {
   "cell_type": "markdown",
   "metadata": {},
   "source": [
    "## 4.1 NumPy Lists\n",
    "\n",
    "We will frequently use [NumPy](https://numpy.org/) arrays instead of regular Python lists. NumPy provides data structures and operations that are suitable for scientific computing, especially with regards to performance. A lot of data science libraries also expect a NumPy array or return one. \n",
    "\n",
    "Here's a simple NumPy array. We can do slicing etc just like on regular arrays. "
   ]
  },
  {
   "cell_type": "code",
   "execution_count": 69,
   "metadata": {},
   "outputs": [
    {
     "name": "stdout",
     "output_type": "stream",
     "text": [
      "2\n",
      "5\n",
      "[2 3]\n",
      "int32\n"
     ]
    }
   ],
   "source": [
    "import numpy as np\n",
    "\n",
    "my_array = np.array([1,2,3,4,5])\n",
    "\n",
    "print(my_array[1])\n",
    "print(my_array[-1])\n",
    "print(my_array[1:3])\n",
    "# Notice that the data type is different from a regular python data type\n",
    "print(my_array.dtype.name)"
   ]
  },
  {
   "cell_type": "markdown",
   "metadata": {},
   "source": [
    "NumPy arrays have a lot of additional functionality, which we will introduce as needed. One significant difference to regular arrays is that an array has to be of a single data type."
   ]
  },
  {
   "cell_type": "code",
   "execution_count": 79,
   "metadata": {},
   "outputs": [
    {
     "name": "stdout",
     "output_type": "stream",
     "text": [
      "['1' 'test' '3' '4' '5']\n",
      "<class 'numpy.str_'>\n",
      "str352\n"
     ]
    }
   ],
   "source": [
    "# trying to set up a hybrid array; that would be OK in python lists. \n",
    "my_hybrid_array = np.array([1,\"test\",3,4,5])\n",
    "\n",
    "# We see that the elements are up-casted to the most inclusive data type, a string.\n",
    "print(my_hybrid_array)\n",
    "print(type(my_hybrid_array[-1]))\n",
    "print(my_hybrid_array.dtype.name)"
   ]
  },
  {
   "cell_type": "markdown",
   "metadata": {},
   "source": [
    "## 5. Loops"
   ]
  },
  {
   "cell_type": "markdown",
   "metadata": {},
   "source": [
    "So far we have learned about two ways to control the flow of a program: functions and if-statements. Now we'll look at another important control structure: loops. \n",
    "\n",
    "Like an if statement, a loop has a condition, and as long as that condition is true, it will continue to re-execute its body. \n",
    "\n",
    "There are two types of loops. **For** loops and **while** loops."
   ]
  },
  {
   "cell_type": "markdown",
   "metadata": {
    "nbpresent": {
     "id": "0c500e4e-a855-4aa2-9cca-95a56f781908"
    }
   },
   "source": [
    "### 5.1 While loops"
   ]
  },
  {
   "cell_type": "markdown",
   "metadata": {},
   "source": [
    "While loops use the `while` keyword, a condition, and the loop body:"
   ]
  },
  {
   "cell_type": "code",
   "execution_count": 80,
   "metadata": {
    "nbpresent": {
     "id": "b33fcef8-e667-4577-8c01-61a2b4f6ace3"
    }
   },
   "outputs": [
    {
     "name": "stdout",
     "output_type": "stream",
     "text": [
      "0, 1, 2, 3, 4, 5, 6, 7, 8, 9, 10, 11, 12, 13, 14, 15, 16, 17, 18, 19, 20, 21, 22, 23, 24, 25, 26, 27, 28, 29, 30, 31, 32, 33, 34, 35, 36, 37, 38, 39, 40, 41, 42, 43, 44, 45, 46, 47, 48, 49, 50, 51, 52, 53, 54, 55, 56, 57, 58, 59, 60, 61, 62, 63, 64, 65, 66, 67, 68, 69, 70, 71, 72, 73, 74, 75, 76, 77, 78, 79, 80, 81, 82, 83, 84, 85, 86, 87, 88, 89, 90, 91, 92, 93, 94, 95, 96, 97, 98, 99, 100, "
     ]
    }
   ],
   "source": [
    "a = 0\n",
    "\n",
    "# print numbers 0-100\n",
    "while a <= 100:\n",
    "    # end is a parameter of print that defines how the string to be printed ends. \n",
    "    # By default, a newline \\n is appended, which we overwrite here\n",
    "    print(a, end=\", \") \n",
    "    a += 1"
   ]
  },
  {
   "cell_type": "markdown",
   "metadata": {
    "nbpresent": {
     "id": "bba871db-05b8-4220-ae06-b398011ae901"
    }
   },
   "source": [
    "What happens here? The `while` keyword indicates that this is a loop, which is followed by the **terminating condition of `a <= 100`**. As long as that condition is true, the loop's body will be called again and again and again ...\n",
    "\n",
    "Once the terminating condition evaluates to false, the code in the loop body will be skipped and the flow of execution continues below the loop. \n",
    "\n",
    "You might rightly guess that it's easy to write loops that don't terminate. Here is one example:\n",
    "```python \n",
    "while True:\n",
    "    print \"Stuck\"\n",
    "```"
   ]
  },
  {
   "cell_type": "markdown",
   "metadata": {},
   "source": [
    "This program would be stuck in the loop forever (or until you terminate it by interrupting your kernel, your computer goes off, etc.) It is hence important to take care that loops actually reach a terminating condition, and it's not always as obvious as in the previous example that this is not the case. \n",
    "\n",
    "But we could also **use the `break` statement to terminate a loop**:"
   ]
  },
  {
   "cell_type": "code",
   "execution_count": 81,
   "metadata": {
    "nbpresent": {
     "id": "a9a27eaf-b9eb-40e6-ae90-8b5691544af7"
    }
   },
   "outputs": [
    {
     "name": "stdout",
     "output_type": "stream",
     "text": [
      "1, 2, 3, 4, 5, 6, 7, 8, 9, 10, 11, 12, 13, 14, 15, 16, 17, 18, 19, 20, 21, 22, 23, 24, 25, 26, 27, 28, 29, 30, 31, 32, 33, 34, 35, 36, 37, 38, 39, 40, 41, 42, 43, 44, 45, 46, 47, 48, 49, 50, 51, 52, 53, 54, 55, 56, 57, 58, 59, 60, 61, 62, 63, 64, 65, 66, 67, 68, 69, 70, 71, 72, 73, 74, 75, 76, 77, 78, 79, 80, 81, 82, 83, 84, 85, 86, 87, 88, 89, 90, 91, 92, 93, 94, 95, 96, 97, 98, 99, 100, "
     ]
    }
   ],
   "source": [
    "a = 1\n",
    "while True:\n",
    "    print(a, end=\", \") \n",
    "    a += 1\n",
    "    if (a > 100):\n",
    "        break"
   ]
  },
  {
   "cell_type": "markdown",
   "metadata": {
    "nbpresent": {
     "id": "16ffca6e-b3b7-437b-a5b4-c6ec25bdc470"
    }
   },
   "source": [
    "Here, we've moved the check of the condition into an if-statement, and break when the if-statement is executed. \n",
    "\n",
    "Similar to the `break` statement, there is also a `continue` statement, that ends evaluation of the loop body and goes back to the start of the loop in the next cycle:"
   ]
  },
  {
   "cell_type": "code",
   "execution_count": 82,
   "metadata": {
    "nbpresent": {
     "id": "e14f20b8-02a7-4a86-b78d-55f2cb27a5e8"
    }
   },
   "outputs": [
    {
     "name": "stdout",
     "output_type": "stream",
     "text": [
      "1, 2, [3], 4, 5, [6], 7, 8, [9], 10, 11, [12], 13, 14, [15], 16, 17, [18], 19, 20, [21], 22, 23, [24], 25, 26, [27], 28, 29, [30], 31, 32, [33], 34, 35, [36], 37, 38, [39], 40, 41, [42], 43, 44, [45], 46, 47, [48], 49, 50, [51], 52, 53, [54], 55, 56, [57], 58, 59, [60], 61, 62, [63], 64, 65, [66], 67, 68, [69], 70, 71, [72], 73, 74, [75], 76, 77, [78], 79, 80, [81], 82, 83, [84], 85, 86, [87], 88, 89, [90], 91, 92, [93], 94, 95, [96], 97, 98, [99], 100, "
     ]
    }
   ],
   "source": [
    "a = 0\n",
    "while a < 100:\n",
    "    a +=1;\n",
    "    # throw brackets around all numbers divisible by 3\n",
    "    if (not a % 3):\n",
    "        print(f\"[{a}]\", end=\", \")\n",
    "        continue # the next line isn't executed because the flow goes back to the beginning of the loop\n",
    "    print(a, end=\", \")"
   ]
  },
  {
   "cell_type": "markdown",
   "metadata": {},
   "source": [
    "Here we've also introduced a [Format String](https://docs.python.org/3/library/string.html?highlight=f%20string#format-string-syntax), which is convenient for creating strings that are a mix of variables and other text. \n",
    "\n",
    "A format string begins with an `f` before the quotes. Variables are specified in curly brackets `{}`. "
   ]
  },
  {
   "cell_type": "code",
   "execution_count": 84,
   "metadata": {},
   "outputs": [
    {
     "name": "stdout",
     "output_type": "stream",
     "text": [
      "My name is Nathan Wallace\n"
     ]
    }
   ],
   "source": [
    "name = \"Nathan Wallace\"\n",
    "print(f\"My name is {name}\")"
   ]
  },
  {
   "cell_type": "markdown",
   "metadata": {
    "nbpresent": {
     "id": "f5f9657e-8005-4ab0-ab73-56a84ec52eec"
    }
   },
   "source": [
    "### 5.2 For loops"
   ]
  },
  {
   "cell_type": "markdown",
   "metadata": {},
   "source": [
    "The most common use for for-loops in Python is to iterate over items of a sequence. Most other programming languages use for loops to iterate over a fixed number of indices.\n",
    "\n",
    "It uses the following syntax:\n",
    "```python\n",
    "for variable in sequence:\n",
    "    #body\n",
    "```"
   ]
  },
  {
   "cell_type": "markdown",
   "metadata": {},
   "source": [
    "The variable is then accessible within the body of the loop.\n",
    "\n",
    "Here is an example:"
   ]
  },
  {
   "cell_type": "code",
   "execution_count": 85,
   "metadata": {
    "nbpresent": {
     "id": "753d2989-7259-4a0d-82cf-648387a730e6"
    }
   },
   "outputs": [
    {
     "name": "stdout",
     "output_type": "stream",
     "text": [
      "Jimmy\n",
      "Robert\n",
      "John\n",
      "John\n"
     ]
    }
   ],
   "source": [
    "for member in zeppelin: #\"member\" is my iterative\n",
    "    print(member)"
   ]
  },
  {
   "cell_type": "markdown",
   "metadata": {
    "nbpresent": {
     "id": "c8c2677e-9e47-4d91-ac4c-257e0c92db61"
    }
   },
   "source": [
    "Of course, that works with arbitrary **slices of lists**, as these are just lists themselves: "
   ]
  },
  {
   "cell_type": "code",
   "execution_count": 86,
   "metadata": {
    "nbpresent": {
     "id": "d1cfb14d-a716-40a0-8e7c-5c1e0e0c74d4"
    }
   },
   "outputs": [
    {
     "name": "stdout",
     "output_type": "stream",
     "text": [
      "Jimmy\n",
      "Robert\n"
     ]
    }
   ],
   "source": [
    "for member in zeppelin[:2]: # stops at 2, does not run 2\n",
    "    print(member)"
   ]
  },
  {
   "cell_type": "markdown",
   "metadata": {
    "nbpresent": {
     "id": "f2499699-e8b0-420a-8cae-ed778d78b69c"
    }
   },
   "source": [
    "We can iterate over **nested lists** with nested for loops: "
   ]
  },
  {
   "cell_type": "code",
   "execution_count": 87,
   "metadata": {
    "nbpresent": {
     "id": "df3c5569-6a10-47f4-a781-e0fd3f43f62f"
    }
   },
   "outputs": [
    {
     "name": "stdout",
     "output_type": "stream",
     "text": [
      "Band Members: \n",
      "-------------\n",
      "0-Paul\n",
      "JohnYoko\n",
      "2-George\n",
      "3-Ringo\n",
      "4-George Martin\n",
      "\n",
      "Band Members: \n",
      "-------------\n",
      "Jimmy\n",
      "Robert\n",
      "John\n",
      "John\n",
      "\n"
     ]
    }
   ],
   "source": [
    "for band in bands:\n",
    "    print(\"Band Members: \")\n",
    "    print(\"-------------\")\n",
    "    for member in band:\n",
    "        print(member)\n",
    "    print()"
   ]
  },
  {
   "cell_type": "markdown",
   "metadata": {
    "nbpresent": {
     "id": "a7feecca-549b-42ad-bd24-6a90674cbbc5"
    }
   },
   "source": [
    "When you want to iterate over a sequence of numbers, use the [`range()`](https://docs.python.org/3/library/stdtypes.html#range) function. Ranges are rules that you can use to generate a sequence of numbers. Here's how you could define a range rule for a range from 0-5. "
   ]
  },
  {
   "cell_type": "code",
   "execution_count": 88,
   "metadata": {},
   "outputs": [
    {
     "data": {
      "text/plain": [
       "range(0, 5)"
      ]
     },
     "execution_count": 88,
     "metadata": {},
     "output_type": "execute_result"
    }
   ],
   "source": [
    "range(5)"
   ]
  },
  {
   "cell_type": "markdown",
   "metadata": {},
   "source": [
    "Ranges by themsleves are iterable, so they can be used e.g., for looping. "
   ]
  },
  {
   "cell_type": "code",
   "execution_count": 89,
   "metadata": {
    "nbpresent": {
     "id": "91ec5e27-b2c5-4cf4-959b-5162a3a2e0e9"
    }
   },
   "outputs": [
    {
     "name": "stdout",
     "output_type": "stream",
     "text": [
      "0\n",
      "1\n",
      "2\n",
      "3\n",
      "4\n",
      "5\n",
      "6\n",
      "7\n",
      "8\n",
      "9\n"
     ]
    }
   ],
   "source": [
    "for i in range(10): \n",
    "    print (i)"
   ]
  },
  {
   "cell_type": "markdown",
   "metadata": {},
   "source": [
    "But we can also create a new list with the output of the range function:"
   ]
  },
  {
   "cell_type": "code",
   "execution_count": 90,
   "metadata": {
    "nbpresent": {
     "id": "439f5d88-4105-42f5-bb30-ad3c0b11f86a"
    }
   },
   "outputs": [
    {
     "data": {
      "text/plain": [
       "[0, 1, 2, 3, 4]"
      ]
     },
     "execution_count": 90,
     "metadata": {},
     "output_type": "execute_result"
    }
   ],
   "source": [
    "list(range(5))"
   ]
  },
  {
   "cell_type": "markdown",
   "metadata": {},
   "source": [
    "The range function also takes other parameters, specifically a \"start\", \"stop\" and a \"step-size\" parameter."
   ]
  },
  {
   "cell_type": "code",
   "execution_count": 91,
   "metadata": {
    "nbpresent": {
     "id": "81fa2227-850e-4d4e-858a-6287c197144a"
    }
   },
   "outputs": [
    {
     "data": {
      "text/plain": [
       "[0, 2, 4, 6, 8]"
      ]
     },
     "execution_count": 91,
     "metadata": {},
     "output_type": "execute_result"
    }
   ],
   "source": [
    "# start at 0, stop at index 10, two steps\n",
    "list(range(0, 10, 2))"
   ]
  },
  {
   "cell_type": "code",
   "execution_count": 92,
   "metadata": {
    "nbpresent": {
     "id": "940616b0-2499-49de-bc31-b2b490cf177d"
    }
   },
   "outputs": [
    {
     "name": "stdout",
     "output_type": "stream",
     "text": [
      "0\n",
      "-3\n",
      "-6\n",
      "-9\n",
      "-12\n",
      "-15\n",
      "-18\n"
     ]
    }
   ],
   "source": [
    "for i in range (0, -20, -3):\n",
    "    print(i)"
   ]
  },
  {
   "cell_type": "markdown",
   "metadata": {},
   "source": [
    "### Try it!\n",
    "\n",
    "Write a loop that prints a running sum of the the odd numbers between 1 and 21."
   ]
  },
  {
   "cell_type": "code",
   "execution_count": 95,
   "metadata": {},
   "outputs": [
    {
     "name": "stdout",
     "output_type": "stream",
     "text": [
      "1\n",
      "4\n",
      "9\n",
      "16\n",
      "25\n",
      "36\n",
      "49\n",
      "64\n",
      "81\n",
      "100\n"
     ]
    }
   ],
   "source": [
    "#Try it! ...code goes here\n",
    "m = 0\n",
    "for n in range (1, 21, 2):\n",
    "    m += n\n",
    "    print(m)\n",
    "    "
   ]
  },
  {
   "cell_type": "markdown",
   "metadata": {},
   "source": [
    "## 6. List Comprehension"
   ]
  },
  {
   "cell_type": "markdown",
   "metadata": {},
   "source": [
    "Now that we know about loops, we can also take a look at [list comprehension](https://docs.python.org/3.5/tutorial/datastructures.html#list-comprehensions). \n",
    "\n",
    "List comprehension can be used to initialize and transform arrays. \n",
    "\n",
    "A list comprehension consists of **brackets**, an **expression** applied to every element of the future list, and a **for clause**. \n",
    "```python\n",
    "[expression for element in list]\n",
    "```\n",
    "\n",
    "Some of you may find this similar to mathematical set notation.\n",
    "\n",
    "The expression can be a variable, an operation, or a function. Let's start with variables. "
   ]
  },
  {
   "cell_type": "code",
   "execution_count": 70,
   "metadata": {},
   "outputs": [
    {
     "data": {
      "text/plain": [
       "[0, 0, 0, 0, 0, 0, 0, 0, 0, 0]"
      ]
     },
     "execution_count": 70,
     "metadata": {},
     "output_type": "execute_result"
    }
   ],
   "source": [
    "# _ is customary for a variable name if you don't need it\n",
    "[0 for _ in range(10)]"
   ]
  },
  {
   "cell_type": "code",
   "execution_count": 71,
   "metadata": {},
   "outputs": [
    {
     "data": {
      "text/plain": [
       "['John',\n",
       " 'John',\n",
       " 'John',\n",
       " 'John',\n",
       " 'John',\n",
       " 'John',\n",
       " 'John',\n",
       " 'John',\n",
       " 'John',\n",
       " 'John']"
      ]
     },
     "execution_count": 71,
     "metadata": {},
     "output_type": "execute_result"
    }
   ],
   "source": [
    "[\"John\" for _ in range(10)]"
   ]
  },
  {
   "cell_type": "code",
   "execution_count": 72,
   "metadata": {
    "scrolled": true
   },
   "outputs": [
    {
     "data": {
      "text/plain": [
       "[0, 1, 2, 3, 4, 5, 6, 7, 8, 9]"
      ]
     },
     "execution_count": 72,
     "metadata": {},
     "output_type": "execute_result"
    }
   ],
   "source": [
    "# we can also make  use of values we iterate over\n",
    "[i for i in range(10)]"
   ]
  },
  {
   "cell_type": "markdown",
   "metadata": {},
   "source": [
    "We can use functions for our expressions in place of a variable. Here we initialize an array of random numbers in the unit interval:"
   ]
  },
  {
   "cell_type": "code",
   "execution_count": 75,
   "metadata": {},
   "outputs": [
    {
     "data": {
      "text/plain": [
       "[0.10010464627961668,\n",
       " 0.9076700851546402,\n",
       " 0.9131846686696572,\n",
       " 0.6740275118264107,\n",
       " 0.05495324589178663,\n",
       " 0.6224542699875957,\n",
       " 0.4989034947641968,\n",
       " 0.39548270043006073,\n",
       " 0.7210043987441124,\n",
       " 0.6275884442776335]"
      ]
     },
     "execution_count": 75,
     "metadata": {},
     "output_type": "execute_result"
    }
   ],
   "source": [
    "import random\n",
    "rands = [random.random() for _ in range(10)]\n",
    "rands"
   ]
  },
  {
   "cell_type": "markdown",
   "metadata": {},
   "source": [
    "You can also use list comprehension to create a list based on another list:"
   ]
  },
  {
   "cell_type": "code",
   "execution_count": 76,
   "metadata": {},
   "outputs": [
    {
     "data": {
      "text/plain": [
       "[1.0010464627961668,\n",
       " 9.076700851546402,\n",
       " 9.131846686696573,\n",
       " 6.740275118264107,\n",
       " 0.5495324589178663,\n",
       " 6.224542699875957,\n",
       " 4.989034947641969,\n",
       " 3.9548270043006073,\n",
       " 7.210043987441123,\n",
       " 6.275884442776335]"
      ]
     },
     "execution_count": 76,
     "metadata": {},
     "output_type": "execute_result"
    }
   ],
   "source": [
    "[x*10 for x in rands]"
   ]
  },
  {
   "cell_type": "markdown",
   "metadata": {},
   "source": [
    "### Try it!\n",
    "\n",
    "In the cell below, use a list comprehension to create a list with the first 10 odd numbers."
   ]
  },
  {
   "cell_type": "code",
   "execution_count": null,
   "metadata": {},
   "outputs": [],
   "source": []
  },
  {
   "cell_type": "markdown",
   "metadata": {},
   "source": [
    "## 7. Recursion\n",
    "\n",
    "**To understand recursion, you must first understand recursion.**\n",
    "\n",
    "![Patric Illustrating Recursion](patric_recursive.gif)\n",
    "\n",
    "Another way to control program flow is recursion. \n",
    "\n",
    "**Recursion is a function that calls itself, until it doesn't.**\n",
    "\n",
    "The first part of that sentences explains the self-referencing nature of recursion, the second part indicates that it – just like a loop – needs a terminating condition. \n",
    "\n",
    "Some of you may find it *similar in mechanics to proof by induction*.\n",
    "\n",
    "Here is an example for printing the numbers 0-10: "
   ]
  },
  {
   "cell_type": "code",
   "execution_count": 77,
   "metadata": {},
   "outputs": [
    {
     "name": "stdout",
     "output_type": "stream",
     "text": [
      "0\n",
      "1\n",
      "2\n",
      "3\n",
      "4\n",
      "5\n",
      "6\n",
      "7\n",
      "8\n",
      "9\n",
      "10\n"
     ]
    }
   ],
   "source": [
    "def printNumber(current, limit):\n",
    "    print(current)\n",
    "    if current < limit:\n",
    "        printNumber(current + 1, limit)\n",
    "        \n",
    "printNumber(0, 10)"
   ]
  },
  {
   "cell_type": "markdown",
   "metadata": {},
   "source": [
    "We have implemented looping / iteration behavior without actually using a loop! However, recursion can be used for more than just loops; it is very well suited, for example, to operate on trees and graphs."
   ]
  },
  {
   "cell_type": "markdown",
   "metadata": {},
   "source": [
    "We can print these numbers in reverse just by moving the print statement to after the function call. Think about why that is. "
   ]
  },
  {
   "cell_type": "code",
   "execution_count": 78,
   "metadata": {},
   "outputs": [
    {
     "name": "stdout",
     "output_type": "stream",
     "text": [
      "10\n",
      "9\n",
      "8\n",
      "7\n",
      "6\n",
      "5\n",
      "4\n",
      "3\n",
      "2\n",
      "1\n",
      "0\n"
     ]
    }
   ],
   "source": [
    "def printNumberReverse(current, limit):\n",
    "    if current < limit:\n",
    "        printNumberReverse(current + 1, limit)\n",
    "    print(current)\n",
    "       \n",
    "        \n",
    "printNumberReverse(0, 10)"
   ]
  },
  {
   "cell_type": "markdown",
   "metadata": {},
   "source": [
    "Why did the above function print the numbers in reverse?"
   ]
  },
  {
   "cell_type": "code",
   "execution_count": 96,
   "metadata": {},
   "outputs": [
    {
     "name": "stdout",
     "output_type": "stream",
     "text": [
      "Depth before recursive call: 0\n",
      "Depth before recursive call: 1\n",
      "Depth before recursive call: 2\n",
      "Depth before recursive call: 3\n",
      "Depth before recursive call: 4\n",
      "Depth before recursive call: 5\n",
      "Depth before recursive call: 6\n",
      "Depth before recursive call: 7\n",
      "Depth before recursive call: 8\n",
      "Depth before recursive call: 9\n",
      "Depth before recursive call: 10\n",
      "Returning at depth 10\n",
      "Returning at depth 9\n",
      "Returning at depth 8\n",
      "Returning at depth 7\n",
      "Returning at depth 6\n",
      "Returning at depth 5\n",
      "Returning at depth 4\n",
      "Returning at depth 3\n",
      "Returning at depth 2\n",
      "Returning at depth 1\n",
      "Returning at depth 0\n"
     ]
    }
   ],
   "source": [
    "def printCallStack(current, limit):\n",
    "    print(f\"Depth before recursive call: {current}\")\n",
    "    if current < limit:\n",
    "        printCallStack(current + 1, limit)\n",
    "    print(f\"Returning at depth {current}\")\n",
    "    # we don't need this; it's implicit, but to illustrate the return it's here\n",
    "    return\n",
    "       \n",
    "        \n",
    "printCallStack(0, 10)"
   ]
  },
  {
   "cell_type": "markdown",
   "metadata": {},
   "source": [
    "We can also use return values in recursive functions. In the following, the recursive call is in the return statement. Here, the evaluation stack goes all the way to 10, after which the return doesn't contain another recursive call, terminating the recursion. Then all the functions return in the order in which they were called and build the string:"
   ]
  },
  {
   "cell_type": "code",
   "execution_count": 97,
   "metadata": {},
   "outputs": [],
   "source": [
    "def getNumberString(current, limit):\n",
    "    if current <= limit: \n",
    "        return f\"{current}, {getNumberString(current+1, limit)}\"  \n",
    "    return \"\""
   ]
  },
  {
   "cell_type": "code",
   "execution_count": 98,
   "metadata": {},
   "outputs": [
    {
     "data": {
      "text/plain": [
       "'0, 1, 2, 3, 4, 5, 6, 7, 8, 9, 10, '"
      ]
     },
     "execution_count": 98,
     "metadata": {},
     "output_type": "execute_result"
    }
   ],
   "source": [
    "getNumberString(0, 10)"
   ]
  },
  {
   "cell_type": "code",
   "execution_count": null,
   "metadata": {},
   "outputs": [],
   "source": []
  }
 ],
 "metadata": {
  "anaconda-cloud": {},
  "kernelspec": {
   "display_name": "base",
   "language": "python",
   "name": "python3"
  },
  "language_info": {
   "codemirror_mode": {
    "name": "ipython",
    "version": 3
   },
   "file_extension": ".py",
   "mimetype": "text/x-python",
   "name": "python",
   "nbconvert_exporter": "python",
   "pygments_lexer": "ipython3",
   "version": "3.11.5"
  },
  "nbpresent": {
   "slides": {
    "19a6495f-8346-4b23-a98a-c7115941e8f0": {
     "id": "19a6495f-8346-4b23-a98a-c7115941e8f0",
     "prev": null,
     "regions": {
      "d6523b36-7204-4001-8a6c-37c431b18d26": {
       "attrs": {
        "height": 1,
        "width": 1,
        "x": 0,
        "y": 0
       },
       "id": "d6523b36-7204-4001-8a6c-37c431b18d26"
      }
     }
    }
   },
   "themes": {}
  }
 },
 "nbformat": 4,
 "nbformat_minor": 1
}
