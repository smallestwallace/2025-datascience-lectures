{
 "cells": [
  {
   "cell_type": "markdown",
   "metadata": {},
   "source": [
    "# Excercises for Lecture 2 - Spring 2025\n",
    "\n",
    "Your Name:      Nathan Wallace\n",
    "\n",
    "Your UID:       U1186463\n",
    "\n",
    "Your E-Mail:    u1186463@utah.edu"
   ]
  },
  {
   "cell_type": "markdown",
   "metadata": {},
   "source": [
    "## Exercise 1: Data types and operations\n",
    "Play around with data types and operations. Try the following things:\n",
    "\n",
    "1. Define two variables and assign an integer to the first and a float to the second. \n",
    "2. Define a third variable and assign the sum of the previous two variables. What's the data type of the third variable?\n",
    "2. Reassign one of your existing variables a value of a different type, e.g., take one of your numerical variables and assign a string to it. What's the new data type?\n",
    "3. What happens if you try to add a string to a string?\n",
    "4. What happens if you add a string to a float or an integer?"
   ]
  },
  {
   "cell_type": "code",
   "execution_count": 1,
   "metadata": {},
   "outputs": [
    {
     "name": "stdout",
     "output_type": "stream",
     "text": [
      "<class 'int'>\n",
      "<class 'float'>\n",
      "<class 'float'>\n"
     ]
    }
   ],
   "source": [
    "# your code\n",
    "x = 5\n",
    "y = 3.14\n",
    "z = x + y\n",
    "\n",
    "print(type(x))\n",
    "print(type(y))\n",
    "print(type(z))"
   ]
  },
  {
   "cell_type": "code",
   "execution_count": 2,
   "metadata": {},
   "outputs": [
    {
     "name": "stdout",
     "output_type": "stream",
     "text": [
      "<class 'str'>\n",
      "letters & more letters\n"
     ]
    }
   ],
   "source": [
    "x = \"letters & \"\n",
    "print(type(x))\n",
    "y = \"more letters\"\n",
    "z = x + y\n",
    "print(z)\n",
    "a = 4\n",
    "# z = x + a\n",
    "# adding a string to a float or an integer gives a TypeError\n"
   ]
  },
  {
   "cell_type": "markdown",
   "metadata": {},
   "source": [
    "## Exercise 2: Running Programs\n",
    "\n",
    " * Create a new file python file and use the `double_number` function as a template. Modify the code to add two numbers instead of doubling a single number.\n",
    " * Can you guess what would happen if you change the indentation? Try it out.\n",
    " * Try what happens if you print `a` at the very end of the program. Can you explain what's going on?\n",
    " \n",
    "If you want to submit this activity, paste the content of your python file here:  "
   ]
  },
  {
   "cell_type": "code",
   "execution_count": 3,
   "metadata": {},
   "outputs": [
    {
     "name": "stdout",
     "output_type": "stream",
     "text": [
      "9\n"
     ]
    }
   ],
   "source": [
    "# my code\n",
    "def add_numbers(n,m):\n",
    "    return n + m\n",
    "\n",
    "# Example usage\n",
    "result = add_numbers(5,4)\n",
    "print(result)  # Output: 9\n",
    "# changing the indentation causes the function to output an error\n",
    "# print(n)\n",
    "# trying to print a local variable outside of its scope outputs an error because it doesn't exist outside of the function"
   ]
  },
  {
   "cell_type": "markdown",
   "metadata": {},
   "source": [
    "## Exercise 3: Creating Cells, Executing Code\n",
    "\n",
    "1. Create a new code cell below where you define variables containing your name, your age in years, and your major.\n",
    "2. Create another cell that uses these variables and prints a concatenated string stating your name, major, and your age in years, months, and days (assuming today is your birthday). The output should look like that:\n",
    "\n",
    "```\n",
    "Name: Science Cat, Major: Computer Science, Age: 94 years, or 1128 months, or 34310 days. \n",
    "```"
   ]
  },
  {
   "cell_type": "markdown",
   "metadata": {},
   "source": [
    "## Exercise 4: Functions\n",
    "Write a function that \n",
    " * takes two numerical variables\n",
    " * multiplies them with each other\n",
    " * divides them by a numerical variable defined in the scope outside the function\n",
    " * and returns the result. \n",
    " \n",
    "Print the result of the function for three different sets of input variables. "
   ]
  },
  {
   "cell_type": "code",
   "execution_count": 4,
   "metadata": {},
   "outputs": [],
   "source": [
    "name = \"Nathan\"\n",
    "age = 23\n",
    "major = \"Biomedical Engineering\""
   ]
  },
  {
   "cell_type": "code",
   "execution_count": 5,
   "metadata": {},
   "outputs": [
    {
     "name": "stdout",
     "output_type": "stream",
     "text": [
      "Name: Nathan, Major: Biomedical Engineering, Age: 23 years, or 276 months, or 8395 days.\n"
     ]
    }
   ],
   "source": [
    "print(\"Name: \" + name +  \", Major: \" + \n",
    "       major + \", Age: \" + str(age) +\n",
    "       \" years, or \" + str(age*12) + \" months, or \"\n",
    "       + str(age*365) + \" days.\")"
   ]
  }
 ],
 "metadata": {
  "kernelspec": {
   "display_name": "base",
   "language": "python",
   "name": "python3"
  },
  "language_info": {
   "codemirror_mode": {
    "name": "ipython",
    "version": 3
   },
   "file_extension": ".py",
   "mimetype": "text/x-python",
   "name": "python",
   "nbconvert_exporter": "python",
   "pygments_lexer": "ipython3",
   "version": "3.11.5"
  }
 },
 "nbformat": 4,
 "nbformat_minor": 4
}
