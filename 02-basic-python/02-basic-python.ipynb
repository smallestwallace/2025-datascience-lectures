{
 "cells": [
  {
   "cell_type": "markdown",
   "metadata": {},
   "source": [
    "# Intro to Data Science Lecture 2 - Intro to Command Line, Python, & Jupyter Notebooks\n",
    "*COMP 5360 / MATH 4100, University of Utah, http://datasciencecourse.net/*\n",
    "\n",
    "Welcome to our first coding lecture! We will be using Python, a popular data science programming language, in the lectures, homeworks, and projects. As part of Homework 0, you should have already setup Python, IPython, and Jupyter notebooks, so it's time to get started!\n"
   ]
  },
  {
   "cell_type": "markdown",
   "metadata": {},
   "source": [
    "# Intro to Command Line Interfaces\n",
    "\n",
    "You don't need a graphical interface, a mouse or a touch interface, to interact with a computer. Command Line Interfaces (CLIs) are the much older way of interacting with computers. And while most casual computer users won't need to use a command line interface today, as soon as you start programming you will likely encounter CLIs on a regular basis. They can be very powerful and even easier to use for some tasks. \n",
    "\n",
    "\n",
    "\n",
    "\n"
   ]
  },
  {
   "cell_type": "markdown",
   "metadata": {},
   "source": [
    "## Types of CLIs and Launching CLIs\n",
    "\n",
    "There are various different types of command line interfaces. The biggest difference used to be between Microsoft CLIs (think MS DOS, and more recently [PowerShell](https://en.wikipedia.org/wiki/PowerShell)) and UNIX (and hence Linux/Mac) interfaces. \n",
    "\n",
    "But UNIX-like interfaces are dominant, and can also be installed on Windows nowadays, so we will be focusing on those. \n",
    "\n",
    "If you are on a Mac, you can start the \"terminal\" app now to follow along. \n",
    "\n",
    "On Windows, you can use the [Anaconda Prompt](https://docs.anaconda.com/anaconda/user-guide/getting-started/) that comes with your Anaconda installation. This will also have the python environment set up correctly. \n",
    "\n",
    "On Linux, we assume you know what you're doing already. \n",
    "\n",
    "\n"
   ]
  },
  {
   "cell_type": "markdown",
   "metadata": {},
   "source": [
    "## Principles and First Steps\n",
    "\n",
    "Once you started your UNIX app, you're greeted by a prompt that might look like this: \n",
    "\n",
    "```\n",
    "fdf@ubuntu:~$ \n",
    "```\n",
    "This tells us that we're running as user `fdf` and are currently in the directory `~`. Here `~` refers to your user's home directory, so it's a shorthand for `/home/fdf` for my specific computer and my specific username. \n",
    "\n",
    "The `$` is called a [command prompt](https://en.wikipedia.org/wiki/Command-line_interface#Command_prompt), and indicates that you can enter a command. Common prompt symbols are `>`, `%`, and `#`; there really is no difference between these variants. \n",
    "\n",
    "Most of what you're doing on a command line is run little applications or commands. For example, we can run the `ls` application inside the folder that contains this notebook: \n",
    "\n",
    "```\n",
    "$ ls\n",
    "02-basic-python.ipynb\t\t datasciencecat.jpg\n",
    "02-exercises.ipynb\t\t    exercise.py\n",
    "02-version-control.ipynb\t  first_steps.py\n",
    "anaconda_navigator.png\t\tnewrepo.png\n",
    "```\n",
    "\n",
    "Above, everything in the line of the prompt `$` is the command, and the rest is the return by the command. `ls` stands for list and it lists all the files and folders in the directory. \n",
    "\n",
    "Commands can have parameters. For example, we can use the `-l` parameter for ls, which produces a directory listing with more details: \n",
    "\n",
    "```\n",
    "$ ls -l\n",
    "total 1480\n",
    "-rw-r--r--  1 little  staff   34512 Jan 11 16:47 02-basic-python.ipynb\n",
    "-rw-r--r--  1 little  staff    3414 Jan 11 16:39 02-exercises.ipynb\n",
    "-rw-r--r--  1 little  staff   15193 Jan 11 12:32 02-version-control.ipynb\n",
    "-rw-r--r--  1 little  staff  549517 Jan 11  2024 anaconda_navigator.png\n",
    "-rw-r--r--  1 little  staff   21395 Jan 11  2024 datasciencecat.jpg\n",
    "-rw-r--r--  1 little  staff     146 Jan 11  2024 exercise.py\n",
    "-rw-r--r--@ 1 little  staff     230 Jan 11  2024 first_steps.py\n",
    "-rw-r--r--  1 little  staff  111784 Jan 11  2024 newrepo.png\n",
    "```\n",
    "\n",
    "Here we have info about the permissions, file size, when a file was last changed, and finally the file name. \n",
    "\n",
    "Absolutely essential is to understand file hierarchy and to navigate the file hierarchy. \n",
    "\n",
    "On a unix system, the file hierarchy starts at `\\`, everything else is a file tree form there. \n",
    "\n",
    "We can navigate the file tree with the `cd` (change directory) command: \n",
    "\n",
    "`cd [target]`\n",
    "\n",
    "Some shorthands: \n",
    "`.` is the current directory, so `cd .` doesn't do anything. \n",
    "`..` is one directory up the hierachy, so if I am in the directory \n",
    "\n",
    "`~/2024-datascience-lectures/02-basic-python`\n",
    "\n",
    "running \n",
    "\n",
    "`cd ..`\n",
    "\n",
    "will move me to the\n",
    "\n",
    "`~/2024-datascience-lectures`\n",
    "\n",
    "directory. \n",
    "\n",
    "I can create new direcories with the mkdir command, e.g., \n",
    "\n",
    "`$ mkdir testdirectory`\n",
    "\n",
    "will create a new directory/folder called testdirectory as a subdirectory of the current directory. If we list the directories now we can see the new directory: \n",
    "\n",
    "```bash \n",
    "$ ls -l\n",
    "total 1480\n",
    "-rw-r--r--  1 little  staff   34512 Jan 11 16:47 02-basic-python.ipynb\n",
    "-rw-r--r--  1 little  staff    3414 Jan 11 16:39 02-exercises.ipynb\n",
    "-rw-r--r--  1 little  staff   15193 Jan 11 12:32 02-version-control.ipynb\n",
    "-rw-r--r--  1 little  staff  549517 Jan 11  2024 anaconda_navigator.png\n",
    "-rw-r--r--  1 little  staff   21395 Jan 11  2024 datasciencecat.jpg\n",
    "-rw-r--r--  1 little  staff     146 Jan 11  2024 exercise.py\n",
    "-rw-r--r--@ 1 little  staff     230 Jan 11  2024 first_steps.py\n",
    "-rw-r--r--  1 little  staff  111784 Jan 11  2024 newrepo.png\n",
    "drwxr-xr-x  2 little  staff      64 Jan 11 16:48 testdirectory\n",
    "```\n",
    "\n",
    "I can copy files with the `cp` command: \n",
    "\n",
    "```bash \n",
    "cp newrepo.png newrepo-copy.png\n",
    "```\n",
    "\n",
    "Here I specify to `cp` a specific file, `newrepo.png` and give it the name/destination `newrepo-copy.png`. \n",
    "\n",
    "I can then move a file into a different directory: \n",
    "\n",
    "```bash \n",
    "mv newrepo-copy.png testdirectory\n",
    "```\n",
    "\n",
    "Note that pressing the \"TAB\" key on your keyboard will auto-complete filenames in most CLI implementations. \n",
    "\n",
    "If we then run: \n",
    "\n",
    "```bash \n",
    "$ ls testdirectory\n",
    "newrepo-copy.png\n",
    "```\n",
    "\n",
    "We can see that the listing of `testdirectory` contains our new file. \n",
    "\n",
    "We can remove files with `rm` \n",
    "\n",
    "```bash \n",
    "$ rm testdirectory/newrepo-copy.png\n",
    "```\n",
    "\n",
    "We can remove folders and all its content (including subfolders), and all i with the -r (recursive) parameter. \n",
    "\n",
    "```bash \n",
    "$ rm -r testdirectory\n",
    "```"
   ]
  },
  {
   "cell_type": "markdown",
   "metadata": {},
   "source": [
    "### Basic Commands\n",
    "\n",
    "Here are a few other basic commands: \n",
    "\n",
    "`touch file.txt` creates a new text file called `file.txt`\n",
    "\n",
    "`echo \"Test\"` writes \"Test\" to the command line.\n",
    "\n",
    "`cat file.txt` prints the content of the file. \n",
    "\n",
    "`pwd` stands for Print Working Directory, i.e., it shows you which directory you're in.\n",
    "\n",
    "`man [cmd]` were [cmd] is any command will drop you into the man pages, where you can find information about that command. Try `man ls`. You exit by pressing `q`. "
   ]
  },
  {
   "cell_type": "markdown",
   "metadata": {},
   "source": [
    "### Piping and Redirecting\n",
    "\n",
    "The Unix philosophy is to have small programs do one job well and forward results between different programs with piping. We're not going into details here, but here's a simple example: \n",
    "\n",
    "`$ ls | grep ipynb`\n",
    "\n",
    "[`grep`](https://man7.org/linux/man-pages/man1/grep.1.html) is a fairly complex command that you can use to match patterns from any input. Here we're asking grep to extract text that contains `ipynb`. \n",
    "\n",
    "`ls` lists directories. The pipe `|` character feeds the output of the `ls` command to the `grep` command. So if you do this in this directory, you will identify all files that contain the `ipynb` string: \n",
    "\n",
    "```bash\n",
    "~/2024-datascience-lectures/02-basic-python $ ls | grep ipynb\n",
    "02-basic-python.ipynb\n",
    "02-exercises.ipynb\n",
    "02-version-control.ipynb\n",
    "```\n",
    "\n",
    "Redirecting is similar, though you're passing the output of a command to a file:\n",
    "```bash\n",
    "$ echo \"Hello World\" >> test.txt\n",
    "```\n",
    "\n",
    "This will create a new file and write \"Hello World\" to that file. You can check with `cat`: \n",
    "```bash\n",
    "$ cat test.txt\n",
    "Hello World\n",
    "```\n",
    "\n",
    "`>>` actually appends a new line to a file if it already exists. You can use `>` to overwrite the file. "
   ]
  },
  {
   "cell_type": "markdown",
   "metadata": {},
   "source": [
    "### Running Programs\n",
    "\n",
    "You can think of `ls`, `echo`, etc as real little programs (though in practice they're now built-in in your CLI). But you can also run proper programs out of a CLI. For example, you can run `git`, or `python`, or `jupyter notebook`. And we'll do all of this next.\n",
    "\n",
    "These programs might not immediately return, like the ones we had before, but might keep running untill you terminate them. For example, `jupyter notebook` will start a server and redirect you to your browser. You can terminate a program on the shell by pressing \"Ctrl + C\". \n",
    "\n",
    "#### GIT\n",
    "\n",
    "Here we'll only look at a few basic commands, check out the version control notebook for details. \n",
    "\n",
    "To clone (make a copy of) a repository, navigate to where you want that repository stored and run: \n",
    "\n",
    "```bash\n",
    "git clone https://github.com/datascience-course/2024-datascience-homework\n",
    "```\n",
    "\n",
    "To get updates on the homeworks navigate into that directory and run: \n",
    "```bash\n",
    "cd 2024-datascience-homework\n",
    "git pull \n",
    "```\n",
    "\n",
    "This is roughly what you should see: \n",
    "\n",
    "```bash\n",
    "$ git pull\n",
    "remote: Enumerating objects: 65, done.\n",
    "remote: Counting objects: 100% (65/65), done.\n",
    "remote: Compressing objects: 100% (51/51), done.\n",
    "remote: Total 59 (delta 33), reused 4 (delta 3), pack-reused 0\n",
    "Unpacking objects: 100% (59/59), done.\n",
    "From https://github.com/visdesignlab/visdesignlab.github.io\n",
    "   dd83bbd..2f65ea8  master     -> origin/master\n",
    "Updating dd83bbd..2f65ea8\n",
    "Fast-forward\n",
    " _persons/miholjcic.md              |  35 +++++++++++++++++++++++++++++++++++\n",
    " _persons/ssiu.md                   |  46 ++++++++++++++++++++++++++++++++++++++++++++++\n",
    " _persons/zcutler.md                |   6 +++---\n",
    " assets/images/people/miholjcic.jpg | Bin 0 -> 7758 bytes\n",
    " assets/images/people/ssiu.jpg      | Bin 0 -> 21360 bytes\n",
    " 5 files changed, 84 insertions(+), 3 deletions(-)\n",
    " create mode 100644 _persons/miholjcic.md\n",
    " create mode 100644 _persons/ssiu.md\n",
    " create mode 100644 assets/images/people/miholjcic.jpg\n",
    " create mode 100644 assets/images/people/ssiu.jpg\n",
    "```\n",
    "\n",
    "Unfortunately one of the biggest drawback of Jupyter notebooks are that they aren't great for version control. If you change anything in a notebook, and we make an update later you will get a conflict in that file.\n",
    "\n",
    "There are ways to deal with conflicts that are better in general, but for Jupyter notebooks we recommend to just make a copy of the file you changed with your file browser (if you want to keep your changes) and pull again. \n",
    "\n",
    "If your don't want to keep your changes, you can run the git checkout command: \n",
    "\n",
    "```bash \n",
    "$ git checkout HW1/HW1.ipynb\n",
    "```\n",
    "\n",
    "This will overwrite anything you have locally with the content from the server. \n",
    "\n",
    "\n",
    "For an introduction with more background, please refer to the [02-version-control.ipynb](02-version-control.ipynb) notebook. We will cover this if we have time at the end of the lecture or some time in the future. "
   ]
  },
  {
   "cell_type": "markdown",
   "metadata": {},
   "source": [
    "## Writing code in a file\n",
    "\n",
    "Let's look at another way to run python: by executing a file. Exit the interactive environment, by calling the exit function:\n",
    "\n",
    "```python\n",
    "exit()\n",
    "```\n",
    "\n",
    "Now, open up your favorite text editor (if you don't have one, check out, e.g., [Sublime](https://www.sublimetext.com/)) and create a new file called \"first_steps.py\". We've created such a file for you [here](first_steps.py).\n",
    "\n",
    "You can also copy and paste this code into the file:\n",
    "\n",
    "```python\n",
    "def double_number(a):\n",
    "    # btw, here is a comment! Use the # symbol to add comments or temporarily remove code\n",
    "    # shorthand operator for 'a = a * 2'\n",
    "    a *= 2\n",
    "    return a\n",
    "\n",
    "print(double_number(3))\n",
    "print(double_number(14.22))\n",
    "```\n",
    "\n",
    "Here we've also defined or first function! We'll go into details about functions at a later time. For now, just notice that the indentation matters!\n",
    "\n",
    "Now, run\n",
    "\n",
    "```bash\n",
    "$ python first_steps.py\n",
    "6\n",
    "28.44\n",
    "```\n",
    "\n",
    "What happened here? Python executed the commands in the file, and then terminated. You saw the result, but it was not interactive anymore, but executed in a couple of milliseconds.\n",
    "\n",
    "Larger and bigger programs are commonly written using source code files and are not run interactively. They will read data from files, wait for user input, etc.\n",
    "\n",
    "\n",
    "In this class, we will neither work with the interactive mode nor with straight-up python files much, but instead will use Jupyter Notebooks, which we'll look at next!"
   ]
  },
  {
   "cell_type": "markdown",
   "metadata": {},
   "source": [
    "# Intro to Jupyter Notebooks\n",
    "\n",
    "Jupyter notebooks will be our main working environment for this class.\n",
    "\n",
    "You should have already downloaded it as part of HW0. But you'll also need to start your notebook server.\n",
    "\n",
    "There are two ways to do this:\n",
    "\n",
    "1. You can use the command line to navigate to the directory that contains the notebook and then run:  \n",
    "\n",
    "```bash\n",
    "$ jupyter notebook\n",
    "```\n",
    "\n",
    "2. Or you can use the anaconda navigator to launch a notebook server in your home directory and then navigate to this folder: \n",
    "\n",
    "![Anaconda Navigator Screenshot](anaconda_navigator.png)"
   ]
  },
  {
   "cell_type": "markdown",
   "metadata": {},
   "source": [
    "## Jupyter Notebook Basics\n",
    "\n",
    "First, let's get familiar with Jupyter Notebooks. \n",
    "\n",
    "Notebooks are made up of \"cells\" that can contain text or code. Notebooks also show you output of the code right below a code cell. These words are written in a text cell using a simple formatting dialect called [markdown](http://jupyter-notebook.readthedocs.io/en/latest/examples/Notebook/Working%20With%20Markdown%20Cells.html). \n",
    "\n",
    "Double click on this cell text or press enter while the cell is selected to see how it is formatted and change it. We can make words *italic* or **bold** or add [links](http://datasciencecourse.net) or include pictures:\n",
    "\n",
    "![Data science cat](datasciencecat.jpg)\n",
    "\n",
    "The content of the notebook, as you edit in your browser, is written to the `.ipynb` file we provided. \n",
    "\n",
    "For your homeworks, you will write in `homework1.ipynb` files for which we will give you a template. You then create a zip archive of this file (and all relevant additional files) and submit it to canvas. \n",
    "\n",
    "If you want to read up on Notebooks in details check out the [excellent documentation](http://jupyter-notebook.readthedocs.io/en/latest/notebook.html)."
   ]
  },
  {
   "cell_type": "markdown",
   "metadata": {},
   "source": [
    "## Google Colab\n",
    "An alternative to native Jupyter Notebooks are cloud-hosted google colab notebooks. Google Colab is largely identical to jupyter notebooks on your local computer, though there are some differences when it comes to loading data from files. We generally recommend that you work on your homeworks and review lectures in local Jupyter Notebooks, but a Google Colab project could be a great idea for your final project, as it's really good for collaborative work – which is an area where Jupyter Notebooks themselves aren't so great because of the issues with doing proper version control on them.\n"
   ]
  },
  {
   "cell_type": "markdown",
   "metadata": {},
   "source": [
    "## Writing Code\n",
    "\n",
    "The most interesting aspect of notebooks, however, is that we can write code in the cells. You can use [many different programming languages](https://github.com/jupyter/jupyter/wiki/Jupyter-kernels) in Jupyter notebooks, but we'll stick to Python. So, let's try it out:"
   ]
  },
  {
   "cell_type": "code",
   "execution_count": 1,
   "metadata": {
    "pycharm": {
     "is_executing": false
    },
    "scrolled": true
   },
   "outputs": [
    {
     "name": "stdout",
     "output_type": "stream",
     "text": [
      "Hello World!\n"
     ]
    },
    {
     "data": {
      "text/plain": [
       "3"
      ]
     },
     "execution_count": 1,
     "metadata": {},
     "output_type": "execute_result"
    }
   ],
   "source": [
    "print (\"Hello World!\")\n",
    "a = 3\n",
    "# This is a comment!\n",
    "# The return value of the last line of a cell is the output\n",
    "a "
   ]
  },
  {
   "cell_type": "markdown",
   "metadata": {},
   "source": [
    "Again, we've greeted the world out there using a print statement. \n",
    "\n",
    "We also assigned a variable and returned it, which makes it the output of this cell. Notice that the output here is directly written into the notebook. \n",
    "\n",
    "You can change something in a cell and re-run it using the \"run cell\" button in the toolbar, or use the `CTRL/CMD+ENTER` shortcut.\n",
    "\n",
    "Another cool thing about cells is that they preserve the state of what happened before. Let's initialize a couple of variables in the next cell: "
   ]
  },
  {
   "cell_type": "code",
   "execution_count": 2,
   "metadata": {
    "pycharm": {
     "is_executing": false
    }
   },
   "outputs": [],
   "source": [
    "age = 2\n",
    "gender = \"woman\"\n",
    "name = \"Datascience Cat\"\n",
    "smart = True"
   ]
  },
  {
   "cell_type": "markdown",
   "metadata": {},
   "source": [
    "These variables are now available to all cell below or above **if you executed the cell**. In practice, you should never rely on a variable from a lower cell in an earlier cell. **This behavior is different from if you were to execute the content of the cells in sequence in a python file.**\n",
    "\n",
    "If you make a change to a cell, you need to execute it again. You can also batch-executed multiple cells using the \"Cell\" menu in the toolbar. \n",
    "\n",
    "Let's do something with the variables we just defined:"
   ]
  },
  {
   "cell_type": "code",
   "execution_count": 3,
   "metadata": {},
   "outputs": [
    {
     "name": "stdout",
     "output_type": "stream",
     "text": [
      "Datascience Cat, age: 2, woman, is smart: True\n"
     ]
    }
   ],
   "source": [
    "print(name + \", age: \" + str(age) + \", \" + \n",
    "       gender + \", is smart: \" + str(smart))"
   ]
  },
  {
   "cell_type": "markdown",
   "metadata": {},
   "source": [
    "In the previous cell, we've [concatenated a couple of strings](https://docs.python.org/3.5/tutorial/introduction.html#strings) to produce one longer string using the `+` operator. Also, we had to call the `str()` function to get [string representations of these variables](https://docs.python.org/3.5/library/stdtypes.html#str).\n",
    "\n",
    "An alternative way to do this is not to concatenate the string but to pass each variable in as a separate argument to the print function: "
   ]
  },
  {
   "cell_type": "code",
   "execution_count": 4,
   "metadata": {},
   "outputs": [
    {
     "name": "stdout",
     "output_type": "stream",
     "text": [
      "Datascience Cat \n",
      " age: 2 \n",
      " woman \n",
      " is smart: True\n"
     ]
    }
   ],
   "source": [
    "print(name, \"\\n\",\n",
    "       \"age:\", age, \"\\n\",\n",
    "       gender, \"\\n\",\n",
    "       \"is smart:\", smart)"
   ]
  },
  {
   "cell_type": "markdown",
   "metadata": {},
   "source": [
    "Here, we're using a new-line character \"\\n\" to break the lines. "
   ]
  },
  {
   "cell_type": "markdown",
   "metadata": {},
   "source": [
    "### Try it!\n",
    "\n",
    "1. Create a Python cell below.\n",
    "2. Create two variables, one for your UID and one for your email. What are the types of these variables?\n",
    "3. Modify the above print statement to add your UID and email to the print-out."
   ]
  },
  {
   "cell_type": "code",
   "execution_count": 5,
   "metadata": {},
   "outputs": [
    {
     "name": "stdout",
     "output_type": "stream",
     "text": [
      "<class 'int'>\n",
      "<class 'str'>\n"
     ]
    }
   ],
   "source": [
    "uid = 1186463\n",
    "email = \"u1186463@utah.edu\"\n",
    "print (type(uid))\n",
    "print (type(email))"
   ]
  },
  {
   "cell_type": "markdown",
   "metadata": {},
   "source": [
    "## Modes\n",
    "\n",
    "Notebooks have two modes, a **command mode** and **edit mode**. You can see which mode you're in by the color of the cell: \n",
    " * **green** means edit mode, \n",
    " * **blue** means command mode. \n",
    " \n",
    "Many operations depend on your mode. For code cells, you can switch into edit mode with \"Enter\", and get out of it with \"Escape\".\n",
    "\n",
    "\n",
    "## Shortucts\n",
    "\n",
    "While you can always use the tool-bar above, you'll be much more efficient if you use a couple of shortcuts. The most important ones are:\n",
    "\n",
    "**`Ctrl/Cmd+Enter`** runs the current cell.  \n",
    "**`Shift+Enter`** runs the current cell and jumps to the next cell.   \n",
    "**`Alt/Option+Enter`** runs the cell and adds a new one below it.\n",
    "\n",
    "In command mode:\n",
    "\n",
    "**`h`** shows a help menu with all these commands.  \n",
    "**`a`** adds a cell before the current cell.  \n",
    "**`b`** adds a cell after the current cell.  \n",
    "**`dd`** deletes a cell.  \n",
    "**`m`** as in **m**arkdown, switches a cell to markdown mode.  \n",
    "**`y`** as in p**y**thon switches a cell to code.  "
   ]
  },
  {
   "cell_type": "markdown",
   "metadata": {},
   "source": [
    "## Kernels\n",
    "\n",
    "When you [run code](http://jupyter-notebook.readthedocs.io/en/latest/examples/Notebook/Running%20Code.html), the code is actually executed in a **kernel**. You can do bad things to a kernel: you can make it stuck in an endless loop, crash it, corrupt it, etc. And you probably will do all of these things :). \n",
    "\n",
    "So sometimes you might have to interrupt your kernel or restart it. Use the \"Kernel\" menu to restart the kernel, re-run your notebook, etc.\n",
    "\n",
    "Also, before submitting a homework or a project, make sure to `Restart and Run All`. This will create a clean run of your project, without any side effects that you might encounter during development. We want you to submit the homeworks **with output**, and by doing that you will make sure that we actually can also execute your code properly.\n",
    "\n",
    "## Storing Output\n",
    "\n",
    "Notebooks contain both, the input to a computation and the outputs. If you run a notebook, all the outputs generated by the code cells are also stored in the notebook. That way, you can look at notebooks also in non-interactive environments, like your first homework on [GitHub](https://github.com/datascience-course/2023-datascience-homework/blob/main/HW1/HW1.ipynb). \n",
    "\n",
    "The Notebook itself is stored in a rather ugly format containing the text, code, and the output. As discussed, this can sometimes be challenging when working with version control."
   ]
  },
  {
   "cell_type": "markdown",
   "metadata": {},
   "source": [
    "# Python Basics\n",
    "\n",
    "## Functions\n",
    "\n",
    "In math, functions transfrom an input to an output as defined by the property of the function, like this: \n",
    "\n",
    "$f(x) = x^2 + 3$\n",
    "\n",
    "In programming, functions can do exactly this, but are also used to execute “subroutines”, i.e., to execute pieces of code in various order and under various conditions. Functions in programming are very important for structuring and modularizing code. \n",
    "\n",
    "In computer science, functions are also called “procedures” and “methods” (there are subtle distinctions, but nothing we need to worry about at this time). \n",
    "\n",
    "The following Python function, for example, provides the output of the above defined function for every valid input: "
   ]
  },
  {
   "cell_type": "code",
   "execution_count": 6,
   "metadata": {},
   "outputs": [],
   "source": [
    "def f(x):\n",
    "    result = x ** 2 + 3 \n",
    "    return result"
   ]
  },
  {
   "cell_type": "markdown",
   "metadata": {},
   "source": [
    "We can now run this function with multiple input values: "
   ]
  },
  {
   "cell_type": "code",
   "execution_count": 7,
   "metadata": {
    "scrolled": true
   },
   "outputs": [
    {
     "name": "stdout",
     "output_type": "stream",
     "text": [
      "7\n",
      "12\n"
     ]
    },
    {
     "data": {
      "text/plain": [
       "28"
      ]
     },
     "execution_count": 7,
     "metadata": {},
     "output_type": "execute_result"
    }
   ],
   "source": [
    "print(f(2))\n",
    "print(f(3))\n",
    "f(5)"
   ]
  },
  {
   "cell_type": "markdown",
   "metadata": {},
   "source": [
    "Let's take a look at this function. The first line\n",
    "```python\n",
    "def f(x):\n",
    "```\n",
    "defines the function of name `f` using the `def` keyword. The name we use (`f` here) is largely arbitrary, but following good software engineering practices it should be something meaningful. So instead of `f`, **`square_plus_three` would be a better function name in this case**.  \n",
    "\n",
    "After the function name follows a list of parameters, in parantheses. In this case we define that the function takes only one parameter, `x`, but we could also define multiple parameters like this:\n",
    "```python \n",
    "def f(x, y, z):\n",
    "```\n",
    "\n",
    "The parameters are then available as local variables within the function.\n",
    "\n",
    "The second line does the actual computation and assigns it to a **local variable** called `result`. \n",
    "\n",
    "The third line uses the `return` keyword to return the result variable. Functions can have a return value that we can assign to a variable. For example, here we could write: \n",
    "\n",
    "```python\n",
    "my_result = f(10)\n",
    "``` \n",
    "\n",
    "Which would assign the return value of the function to the variable `my_result`."
   ]
  },
  {
   "cell_type": "markdown",
   "metadata": {},
   "source": [
    "Note that the lines of code that belong to a function are **indented by four spaces** (you can hit tab to indent, but it will be converted to four spaces). Python defines the scope of a function using indentation. Many other programming languages use curly brackets `{}` to do this. \n",
    "\n",
    "A function is ended by a new line.\n",
    "\n",
    "For example, the same function wouldn't work like this:"
   ]
  },
  {
   "cell_type": "code",
   "execution_count": 8,
   "metadata": {},
   "outputs": [
    {
     "ename": "SyntaxError",
     "evalue": "'return' outside function (2591632246.py, line 4)",
     "output_type": "error",
     "traceback": [
      "\u001b[1;36m  Cell \u001b[1;32mIn[8], line 4\u001b[1;36m\u001b[0m\n\u001b[1;33m    return result\u001b[0m\n\u001b[1;37m    ^\u001b[0m\n\u001b[1;31mSyntaxError\u001b[0m\u001b[1;31m:\u001b[0m 'return' outside function\n"
     ]
    }
   ],
   "source": [
    "def f(x):\n",
    "    result = x ** 2 + 3\n",
    "# Throws a SyntaxError because return is used outside a function\n",
    "return result"
   ]
  },
  {
   "cell_type": "markdown",
   "metadata": {},
   "source": [
    "Equally, we can't indent by too much:"
   ]
  },
  {
   "cell_type": "code",
   "execution_count": 9,
   "metadata": {},
   "outputs": [
    {
     "ename": "IndentationError",
     "evalue": "unexpected indent (3765520253.py, line 4)",
     "output_type": "error",
     "traceback": [
      "\u001b[1;36m  Cell \u001b[1;32mIn[9], line 4\u001b[1;36m\u001b[0m\n\u001b[1;33m    return result\u001b[0m\n\u001b[1;37m    ^\u001b[0m\n\u001b[1;31mIndentationError\u001b[0m\u001b[1;31m:\u001b[0m unexpected indent\n"
     ]
    }
   ],
   "source": [
    "def f(x):\n",
    "    result = x ** 2 + 3\n",
    "    # Throws an IndentationError\n",
    "        return result"
   ]
  },
  {
   "cell_type": "markdown",
   "metadata": {},
   "source": [
    "### Try it!\n",
    "\n",
    "1. Create a Python cell below.\n",
    "2. Define a new function that takes two variables, `x` and `y` and prints the one divided by the other.\n",
    "3. Test your function with multiple input values, printing the answer.\n",
    "4. What happens when you try to divide by zero?"
   ]
  },
  {
   "cell_type": "code",
   "execution_count": 18,
   "metadata": {},
   "outputs": [],
   "source": [
    "def f(x,y):\n",
    "    result = x/y\n",
    "    return result"
   ]
  },
  {
   "cell_type": "code",
   "execution_count": 19,
   "metadata": {},
   "outputs": [
    {
     "name": "stdout",
     "output_type": "stream",
     "text": [
      "0.5\n",
      "8.0\n"
     ]
    },
    {
     "ename": "ZeroDivisionError",
     "evalue": "division by zero",
     "output_type": "error",
     "traceback": [
      "\u001b[1;31m---------------------------------------------------------------------------\u001b[0m",
      "\u001b[1;31mZeroDivisionError\u001b[0m                         Traceback (most recent call last)",
      "Cell \u001b[1;32mIn[19], line 3\u001b[0m\n\u001b[0;32m      1\u001b[0m \u001b[38;5;28mprint\u001b[39m(f(\u001b[38;5;241m1\u001b[39m,\u001b[38;5;241m2\u001b[39m))\n\u001b[0;32m      2\u001b[0m \u001b[38;5;28mprint\u001b[39m(f(\u001b[38;5;241m16\u001b[39m,\u001b[38;5;241m2\u001b[39m))\n\u001b[1;32m----> 3\u001b[0m \u001b[38;5;28mprint\u001b[39m(f(\u001b[38;5;241m1\u001b[39m,\u001b[38;5;241m0\u001b[39m))\n",
      "Cell \u001b[1;32mIn[18], line 2\u001b[0m, in \u001b[0;36mf\u001b[1;34m(x, y)\u001b[0m\n\u001b[0;32m      1\u001b[0m \u001b[38;5;28;01mdef\u001b[39;00m \u001b[38;5;21mf\u001b[39m(x,y):\n\u001b[1;32m----> 2\u001b[0m     result \u001b[38;5;241m=\u001b[39m x\u001b[38;5;241m/\u001b[39my\n\u001b[0;32m      3\u001b[0m     \u001b[38;5;28;01mreturn\u001b[39;00m result\n",
      "\u001b[1;31mZeroDivisionError\u001b[0m: division by zero"
     ]
    }
   ],
   "source": [
    "print(f(1,2))\n",
    "print(f(16,2))\n",
    "print(f(1,0))"
   ]
  },
  {
   "cell_type": "markdown",
   "metadata": {},
   "source": [
    "## Scope\n",
    "\n",
    "Another critical concept when working with functions is to understand the scope of a variable. Scope defines under which circumstances a variable is accessible. For example, in the following code snippet we cannot access the variable defined inside a function:"
   ]
  },
  {
   "cell_type": "code",
   "execution_count": 10,
   "metadata": {},
   "outputs": [
    {
     "name": "stdout",
     "output_type": "stream",
     "text": [
      "Within function: only readable in here\n"
     ]
    }
   ],
   "source": [
    "def scope_test():\n",
    "    function_scope = \"only readable in here\"\n",
    "    # Within the function, we can use the variable we have defined\n",
    "    print(\"Within function: \" + function_scope)\n",
    "\n",
    "# calling the function, which will print     \n",
    "scope_test()"
   ]
  },
  {
   "cell_type": "markdown",
   "metadata": {},
   "source": [
    "If we try to use the `function_scope` variable outside of the function, we will find that it is not defined. \n",
    "\n",
    "This will throw a `NameError`, because Python doesn't know about that variable here."
   ]
  },
  {
   "cell_type": "code",
   "execution_count": 11,
   "metadata": {},
   "outputs": [
    {
     "ename": "NameError",
     "evalue": "name 'function_scope' is not defined",
     "output_type": "error",
     "traceback": [
      "\u001b[1;31m---------------------------------------------------------------------------\u001b[0m",
      "\u001b[1;31mNameError\u001b[0m                                 Traceback (most recent call last)",
      "Cell \u001b[1;32mIn[11], line 1\u001b[0m\n\u001b[1;32m----> 1\u001b[0m \u001b[38;5;28mprint\u001b[39m(\u001b[38;5;124m\"\u001b[39m\u001b[38;5;124mOutside function: \u001b[39m\u001b[38;5;124m\"\u001b[39m \u001b[38;5;241m+\u001b[39m function_scope)\n",
      "\u001b[1;31mNameError\u001b[0m: name 'function_scope' is not defined"
     ]
    }
   ],
   "source": [
    "print(\"Outside function: \" + function_scope)"
   ]
  },
  {
   "cell_type": "markdown",
   "metadata": {},
   "source": [
    "You might wonder “Why is that? Wouldn't it make sense to have access to variables wherever I need access?”. The reason for scoping is that it's simply much easier to **build reliable software when we modularize code**. When we use a function, we shouldn't have to worry about its internals. \n",
    "\n",
    "Another practical reason is that this way we can **re-use variable names** that were used in other places. This is really important when we work with other peoples' code (e.g., libraries). If that weren't possible, we might get nasty side-effects just because the library uses a variable with the same name somewhere. \n",
    "\n",
    "You can, however, use variables defined in the larger scope in the sub-scope:"
   ]
  },
  {
   "cell_type": "code",
   "execution_count": 21,
   "metadata": {},
   "outputs": [
    {
     "name": "stdout",
     "output_type": "stream",
     "text": [
      "Dr. Science Cat\n"
     ]
    }
   ],
   "source": [
    "name = \"Science Cat\"\n",
    "\n",
    "def print_name_with_dr():\n",
    "    print(\"Dr.\", name)\n",
    "    \n",
    "print_name_with_dr()"
   ]
  },
  {
   "cell_type": "markdown",
   "metadata": {},
   "source": [
    "This is generally **not considered good practice** – functions should rely only on their input parameters. Otherwise it can easily lead to side effects. This would be the better approach: "
   ]
  },
  {
   "cell_type": "code",
   "execution_count": 23,
   "metadata": {},
   "outputs": [
    {
     "name": "stdout",
     "output_type": "stream",
     "text": [
      "Dr. Foo\n",
      "Science Cat\n"
     ]
    }
   ],
   "source": [
    "# note that we're re-using the parameter name defined in the previous cell.\n",
    "def print_name_with_dr(name):\n",
    "    print(\"Dr.\", name)\n",
    "    \n",
    "print_name_with_dr('Foo')\n",
    "print(name)"
   ]
  },
  {
   "cell_type": "markdown",
   "metadata": {},
   "source": [
    "Finally, there is a way to define a variable within a function for use outside its scope by using the global keyword. There are reasons to do this, but it is generally discouraged."
   ]
  },
  {
   "cell_type": "code",
   "execution_count": 14,
   "metadata": {},
   "outputs": [
    {
     "name": "stdout",
     "output_type": "stream",
     "text": [
      "Within function: defined in the function, global scope\n",
      "Outside function: defined in the function, global scope\n"
     ]
    }
   ],
   "source": [
    "def scope_test():\n",
    "    # Think long and hard before you do this - generally you shouldn't. I have never.\n",
    "    global global_scope\n",
    "    global_scope = \"defined in the function, global scope\"\n",
    "    # Within the function, we can use the variable we have defined\n",
    "    print(\"Within function: \" + global_scope)\n",
    "\n",
    "scope_test()\n",
    "# Since this is defined as global we can also print the variable here\n",
    "print(\"Outside function: \" + global_scope)"
   ]
  },
  {
   "cell_type": "markdown",
   "metadata": {},
   "source": [
    "### Try it!\n",
    "\n",
    "1. Create a Python cell below.\n",
    "2. In the cell, define a variable called `x` and set its value to `2`.\n",
    "3. Create three functions, all of which calculate `x + 7`:\n",
    "    * The first function should use `x` without defining it.\n",
    "    * The second function should have a parameter named `x`. \n",
    "    * The third function should redefine `x` inside of it to be `3`.\n",
    "3. When you try each function, what is the result? What is the value of the `x` outside the function?"
   ]
  },
  {
   "cell_type": "markdown",
   "metadata": {},
   "source": [
    "## Looking Ahead: Conditions, Loops, Advanced Data Types\n",
    "\n",
    "We've learned how to execute operations and call and define functions. In the next lecture, we'll learn how we can control the flow of execution in a program using conditions (if statements) and loops. We'll also introduce more advanced data types such as lists and dictionaries. "
   ]
  }
 ],
 "metadata": {
  "kernelspec": {
   "display_name": "base",
   "language": "python",
   "name": "python3"
  },
  "language_info": {
   "codemirror_mode": {
    "name": "ipython",
    "version": 3
   },
   "file_extension": ".py",
   "mimetype": "text/x-python",
   "name": "python",
   "nbconvert_exporter": "python",
   "pygments_lexer": "ipython3",
   "version": "3.11.5"
  }
 },
 "nbformat": 4,
 "nbformat_minor": 4
}
