{
 "cells": [
  {
   "cell_type": "markdown",
   "metadata": {},
   "source": [
    "# Lecture 5: Activities"
   ]
  },
  {
   "cell_type": "markdown",
   "metadata": {
    "collapsed": true
   },
   "source": [
    "## Activity 1: Set Intersection\n",
    "\n",
    "Write a function that finds the intersection of an arbitrary number of sets and prints them.\n",
    "Initialize two sets, e.g., with values {11, 42, 16, 22, 19} and {16, 4, 8, 11, 42} and {17, 6, 11, 16, 7, 12} and call this function with them.\n",
    "\n",
    "You can assume the function will be passed at least two sets. You can do this either with a tuple parameter or with the `*args` parameter we learned last week."
   ]
  },
  {
   "cell_type": "code",
   "execution_count": 1,
   "metadata": {},
   "outputs": [
    {
     "name": "stdout",
     "output_type": "stream",
     "text": [
      "{16, 42, 11}\n",
      "{16, 11}\n",
      "{16, 11}\n",
      "{16, 11}\n"
     ]
    }
   ],
   "source": [
    "def set_intersect(*sets):\n",
    "    # sets is a tuple\n",
    "    result = sets[0]\n",
    "    for n in sets[1:]:\n",
    "        result = result.intersection(n)\n",
    "    return result\n",
    "    \n",
    "\n",
    "set1 = {11, 42, 16, 22, 19}\n",
    "set2 = {16, 4, 8, 11, 42}\n",
    "set3 = {17, 6, 11, 16, 7, 12}\n",
    "\n",
    "print(set_intersect(set1, set2))\n",
    "print(set_intersect(set2, set3))\n",
    "print(set_intersect(set3, set1))\n",
    "print(set_intersect(set1, set2, set3))"
   ]
  },
  {
   "cell_type": "markdown",
   "metadata": {},
   "source": [
    "## Activity 2: Dictionaries\n",
    "\n",
    " * Create a dictionary with two-letter codes of two US states and the full names, e.g., UT: Utah, NY: New York\n",
    " * After initially creating the dictionary, add two more states to the dictionary.\n",
    " * Create a second dictionary that maps the state codes to an array of cities in that state, e.g., UT: [Salt Lake City, Ogden, Provo, St.George]. \n",
    " * Write a function that takes a state code and prints the full name of the state and lists the cities in that state."
   ]
  },
  {
   "cell_type": "code",
   "execution_count": 2,
   "metadata": {},
   "outputs": [
    {
     "name": "stdout",
     "output_type": "stream",
     "text": [
      "State: Utah\n",
      "['Salt Lake City', 'Ogden', 'Provo', 'St. George']\n",
      "State: New York\n",
      "['New York City', 'Brooklyn', \"Some other places I'm sure\"]\n",
      "State: Nevada\n",
      "['Las Vegas', 'Elko', 'Boulder City']\n",
      "State: Idaho\n",
      "['Boise', 'Idaho Falls', 'Firth']\n"
     ]
    }
   ],
   "source": [
    "states = {\"UT\":\"Utah\", \"NY\":\"New York\"}\n",
    "states[\"NV\"] = \"Nevada\"\n",
    "states[\"ID\"] = \"Idaho\"\n",
    "cities = {\"UT\":[\"Salt Lake City\", \"Ogden\", \"Provo\", \"St. George\"], \"NY\":[\"New York City\", \"Brooklyn\", \"Some other places I'm sure\"], \"NV\":[\"Las Vegas\", \"Elko\", \"Boulder City\"],\"ID\":[\"Boise\", \"Idaho Falls\", \"Firth\"]}\n",
    "\n",
    "def names_and_cities(code):\n",
    "    print(\"State: \" + states[code])\n",
    "    print(cities[code])\n",
    "\n",
    "names_and_cities(\"UT\")\n",
    "names_and_cities(\"NY\")\n",
    "names_and_cities(\"NV\")\n",
    "names_and_cities(\"ID\")"
   ]
  },
  {
   "cell_type": "markdown",
   "metadata": {},
   "source": [
    "## Activity 3: Objects\n",
    "\n",
    "Create a class `Pet` with members `name, pronoun, animal,` and `pet_response`. \n",
    "\n",
    "Add a method `pet()` which prints a response that is composed of the members, like that: \n",
    "\n",
    "`Layla is a cat. If you pet her, Layla purrs.`  \n",
    "`Bond is a dog. If you pet him, Scout wags his tail.`\n"
   ]
  },
  {
   "cell_type": "code",
   "execution_count": 3,
   "metadata": {},
   "outputs": [],
   "source": [
    "class Pet:\n",
    "    def __init__(self, name, pronoun, animal, pet_response):\n",
    "        self.name = name\n",
    "        self.pronoun = pronoun\n",
    "        self.animal = animal\n",
    "        self.pet_response = pet_response\n",
    "\n",
    "    def pet(self):\n",
    "        print(self.name + \" is a \" + self.animal +\n",
    "        \". If you pet\", self.pronoun + \",\", self.name,\n",
    "         self.pet_response + \".\")\n"
   ]
  },
  {
   "cell_type": "markdown",
   "metadata": {},
   "source": [
    "Here are some example calls: "
   ]
  },
  {
   "cell_type": "code",
   "execution_count": 4,
   "metadata": {},
   "outputs": [
    {
     "name": "stdout",
     "output_type": "stream",
     "text": [
      "Layla is a cat. If you pet her, Layla purrs.\n",
      "Bond is a dog. If you pet him, Bond wags his tail.\n"
     ]
    }
   ],
   "source": [
    "layla = Pet(\"Layla\", \"her\", \"cat\", \"purrs\")\n",
    "scout = Pet(\"Bond\", \"him\", \"dog\", \"wags his tail\")\n",
    "\n",
    "layla.pet()\n",
    "scout.pet()"
   ]
  },
  {
   "cell_type": "markdown",
   "metadata": {
    "collapsed": true
   },
   "source": [
    "## Activity 4: Pandas Series"
   ]
  },
  {
   "cell_type": "markdown",
   "metadata": {},
   "source": [
    "Create a new pandas series with the lists given below that contain NFL team names and the number of Super Bowl titles they won. Use the names as indices, the wins as the data.\n",
    "\n",
    " * Once the list is created, sort the series alphabetically by index. \n",
    " * Print an overview of the statistical properties of the series. What's the mean number of wins?\n",
    " * Filter out all teams that have won less than four Super Bowl titles\n",
    " * A football team has 45 players. Update the series so that instead of the number of titles, it reflects the number of Super Bowl rings given to the players. \n",
    " * Assume that each ring costs USD 28,000. Update the series so that it contains a string of the dollar amount including the \\$ sign. For the Steelers, for example, this would correspond to: \n",
    " ```\n",
    " Pittsburgh Steelers             $ 7560000\n",
    " ```\n",
    "\n"
   ]
  },
  {
   "cell_type": "code",
   "execution_count": 5,
   "metadata": {},
   "outputs": [],
   "source": [
    "teams = [\"New England Patriots\",\n",
    "         \"Pittsburgh Steelers\",\n",
    "         \"Dallas Cowboys\",\n",
    "         \"San Francisco 49ers\",\n",
    "         \"Green Bay Packers\",\n",
    "         \"New York Giants\",\n",
    "         \"Kansas City Chiefs\",\n",
    "         \"Denver Broncos\",\n",
    "         \"Oakland/Los Angeles/Las Vegas Raiders\",\n",
    "         \"Washington Commanders\"\n",
    "         \"Miami Dolphins\",\n",
    "         \"Baltimore/Indianapolis Colts\",\n",
    "         \"Baltimore Ravens\",\n",
    "         \"Los Angeles/St. Louis Rams\",\n",
    "         \"Tampa Bay Buccaneers\"]\n",
    "wins = [6,6,5,5,4,4,4,3,3,3,2,2,2,2,]"
   ]
  },
  {
   "cell_type": "code",
   "execution_count": 6,
   "metadata": {},
   "outputs": [
    {
     "name": "stdout",
     "output_type": "stream",
     "text": [
      "count    14.000000\n",
      "mean      3.642857\n",
      "std       1.446861\n",
      "min       2.000000\n",
      "25%       2.250000\n",
      "50%       3.500000\n",
      "75%       4.750000\n",
      "max       6.000000\n",
      "dtype: float64\n",
      "The mean number of wins is 3.642857142857143\n"
     ]
    },
    {
     "data": {
      "text/plain": [
       "Dallas Cowboys          $6300000\n",
       "Green Bay Packers       $5040000\n",
       "Kansas City Chiefs      $5040000\n",
       "New England Patriots    $7560000\n",
       "New York Giants         $5040000\n",
       "Pittsburgh Steelers     $7560000\n",
       "San Francisco 49ers     $6300000\n",
       "dtype: object"
      ]
     },
     "execution_count": 6,
     "metadata": {},
     "output_type": "execute_result"
    }
   ],
   "source": [
    "import pandas as pd\n",
    "\n",
    "pd_teams = pd.Series(wins, index = teams)\n",
    "\n",
    "pd_teams = pd_teams.sort_index()\n",
    "print(pd_teams.describe())\n",
    "mean_wins = pd_teams.mean()\n",
    "print(f\"The mean number of wins is {mean_wins}\")\n",
    "pd_teams = pd_teams[pd_teams >= 4]\n",
    "pd_teams = pd_teams * 45\n",
    "pd_teams = pd_teams.apply(lambda x: f\"${x * 28000}\")\n",
    "pd_teams"
   ]
  }
 ],
 "metadata": {
  "anaconda-cloud": {},
  "kernelspec": {
   "display_name": "base",
   "language": "python",
   "name": "python3"
  },
  "language_info": {
   "codemirror_mode": {
    "name": "ipython",
    "version": 3
   },
   "file_extension": ".py",
   "mimetype": "text/x-python",
   "name": "python",
   "nbconvert_exporter": "python",
   "pygments_lexer": "ipython3",
   "version": "3.11.5"
  }
 },
 "nbformat": 4,
 "nbformat_minor": 1
}
