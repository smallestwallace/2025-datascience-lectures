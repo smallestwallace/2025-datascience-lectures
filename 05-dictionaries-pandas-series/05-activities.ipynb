{
 "cells": [
  {
   "cell_type": "markdown",
   "metadata": {},
   "source": [
    "# Lecture 5: Activities"
   ]
  },
  {
   "cell_type": "markdown",
   "metadata": {
    "collapsed": true
   },
   "source": [
    "## Activity 1: Set Intersection\n",
    "\n",
    "Write a function that finds the intersection of an arbitrary number of sets and prints them.\n",
    "Initialize two sets, e.g., with values {11, 42, 16, 22, 19} and {16, 4, 8, 11, 42} and {17, 6, 11, 16, 7, 12} and call this function with them.\n",
    "\n",
    "You can assume the function will be passed at least two sets. You can do this either with a tuple parameter or with the `*args` parameter we learned last week."
   ]
  },
  {
   "cell_type": "code",
   "execution_count": null,
   "metadata": {},
   "outputs": [],
   "source": []
  },
  {
   "cell_type": "markdown",
   "metadata": {},
   "source": [
    "## Activity 2: Dictionaries\n",
    "\n",
    " * Create a dictionary with two-letter codes of two US states and the full names, e.g., UT: Utah, NY: New York\n",
    " * After initially creating the dictionary, add two more states to the dictionary.\n",
    " * Create a second dictionary that maps the state codes to an array of cities in that state, e.g., UT: [Salt Lake City, Ogden, Provo, St.George]. \n",
    " * Write a function that takes a state code and prints the full name of the state and lists the cities in that state."
   ]
  },
  {
   "cell_type": "code",
   "execution_count": null,
   "metadata": {},
   "outputs": [],
   "source": []
  },
  {
   "cell_type": "markdown",
   "metadata": {},
   "source": [
    "## Activity 3: Objects\n",
    "\n",
    "Create a class `Pet` with members `name, pronoun, animal,` and `pet_response`. \n",
    "\n",
    "Add a method `pet()` which prints a response that is composed of the members, like that: \n",
    "\n",
    "`Layla is a cat. If you pet her, Layla purrs.`  \n",
    "`Bond is a dog. If you pet him, Scout wags his tail.`\n"
   ]
  },
  {
   "cell_type": "code",
   "execution_count": null,
   "metadata": {},
   "outputs": [],
   "source": []
  },
  {
   "cell_type": "markdown",
   "metadata": {},
   "source": [
    "Here are some example calls: "
   ]
  },
  {
   "cell_type": "code",
   "execution_count": null,
   "metadata": {},
   "outputs": [],
   "source": [
    "layla = Pet(\"Layla\", \"her\", \"cat\", \"purrs\")\n",
    "scout = Pet(\"Bond\", \"him\", \"dog\", \"wags his tail\")\n",
    "\n",
    "layla.pet()\n",
    "scout.pet()"
   ]
  },
  {
   "cell_type": "markdown",
   "metadata": {
    "collapsed": true
   },
   "source": [
    "## Activity 4: Pandas Series"
   ]
  },
  {
   "cell_type": "markdown",
   "metadata": {},
   "source": [
    "Create a new pandas series with the lists given below that contain NFL team names and the number of Super Bowl titles they won. Use the names as indices, the wins as the data.\n",
    "\n",
    " * Once the list is created, sort the series alphabetically by index. \n",
    " * Print an overview of the statistical properties of the series. What's the mean number of wins?\n",
    " * Filter out all teams that have won less than four Super Bowl titles\n",
    " * A football team has 45 players. Update the series so that instead of the number of titles, it reflects the number of Super Bowl rings given to the players. \n",
    " * Assume that each ring costs USD 28,000. Update the series so that it contains a string of the dollar amount including the \\$ sign. For the Steelers, for example, this would correspond to: \n",
    " ```\n",
    " Pittsburgh Steelers             $ 7560000\n",
    " ```\n",
    "\n"
   ]
  },
  {
   "cell_type": "code",
   "execution_count": null,
   "metadata": {},
   "outputs": [],
   "source": [
    "teams = [\"New England Patriots\",\n",
    "         \"Pittsburgh Steelers\",\n",
    "         \"Dallas Cowboys\",\n",
    "         \"San Francisco 49ers\",\n",
    "         \"Green Bay Packers\",\n",
    "         \"New York Giants\",\n",
    "         \"Kansas City Chiefs\",\n",
    "         \"Denver Broncos\",\n",
    "         \"Oakland/Los Angeles/Las Vegas Raiders\",\n",
    "         \"Washington Commanders\"\n",
    "         \"Miami Dolphins\",\n",
    "         \"Baltimore/Indianapolis Colts\",\n",
    "         \"Baltimore Ravens\",\n",
    "         \"Los Angeles/St. Louis Rams\",\n",
    "         \"Tampa Bay Buccaneers\"]\n",
    "wins = [6,6,5,5,4,4,4,3,3,3,2,2,2,2,2]"
   ]
  },
  {
   "cell_type": "code",
   "execution_count": null,
   "metadata": {},
   "outputs": [],
   "source": [
    "import pandas as pd"
   ]
  }
 ],
 "metadata": {
  "anaconda-cloud": {},
  "kernelspec": {
   "display_name": "Python 3 (ipykernel)",
   "language": "python",
   "name": "python3"
  },
  "language_info": {
   "codemirror_mode": {
    "name": "ipython",
    "version": 3
   },
   "file_extension": ".py",
   "mimetype": "text/x-python",
   "name": "python",
   "nbconvert_exporter": "python",
   "pygments_lexer": "ipython3",
   "version": "3.9.6"
  }
 },
 "nbformat": 4,
 "nbformat_minor": 1
}
